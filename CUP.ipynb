{
  "cells": [
    {
      "cell_type": "markdown",
      "metadata": {
        "id": "Ab0kqjAitYkB"
      },
      "source": [
        "# **<font color=\"#34ebdb\">0.0 IMPORTS</font>**"
      ]
    },
    {
      "cell_type": "code",
      "execution_count": 2,
      "metadata": {
        "colab": {
          "base_uri": "https://localhost:8080/"
        },
        "id": "WZcu7u1JtN_K",
        "outputId": "56ebdaf2-ebcb-491e-9124-a59cc02895d5"
      },
      "outputs": [
        {
          "output_type": "stream",
          "name": "stdout",
          "text": [
            "Looking in indexes: https://pypi.org/simple, https://us-python.pkg.dev/colab-wheels/public/simple/\n",
            "Collecting scikeras\n",
            "  Downloading scikeras-0.10.0-py3-none-any.whl (27 kB)\n",
            "Requirement already satisfied: scikit-learn>=1.0.0 in /usr/local/lib/python3.8/dist-packages (from scikeras) (1.0.2)\n",
            "Requirement already satisfied: packaging>=0.21 in /usr/local/lib/python3.8/dist-packages (from scikeras) (21.3)\n",
            "Requirement already satisfied: pyparsing!=3.0.5,>=2.0.2 in /usr/local/lib/python3.8/dist-packages (from packaging>=0.21->scikeras) (3.0.9)\n",
            "Requirement already satisfied: joblib>=0.11 in /usr/local/lib/python3.8/dist-packages (from scikit-learn>=1.0.0->scikeras) (1.2.0)\n",
            "Requirement already satisfied: numpy>=1.14.6 in /usr/local/lib/python3.8/dist-packages (from scikit-learn>=1.0.0->scikeras) (1.21.6)\n",
            "Requirement already satisfied: threadpoolctl>=2.0.0 in /usr/local/lib/python3.8/dist-packages (from scikit-learn>=1.0.0->scikeras) (3.1.0)\n",
            "Requirement already satisfied: scipy>=1.1.0 in /usr/local/lib/python3.8/dist-packages (from scikit-learn>=1.0.0->scikeras) (1.7.3)\n",
            "Installing collected packages: scikeras\n",
            "Successfully installed scikeras-0.10.0\n"
          ]
        }
      ],
      "source": [
        "!pip install scikeras"
      ]
    },
    {
      "cell_type": "code",
      "execution_count": 3,
      "metadata": {
        "id": "dYmuNWoyzP_O"
      },
      "outputs": [],
      "source": [
        "# General\n",
        "import pandas as pd\n",
        "import numpy as np\n",
        "import matplotlib.pyplot as plt\n",
        "import seaborn as sns\n",
        "import matplotlib.ticker as mtick\n",
        "import warnings\n",
        "\n",
        "# Model\n",
        "from sklearn.model_selection import KFold, cross_val_score, cross_val_predict, train_test_split, GridSearchCV, RandomizedSearchCV, StratifiedKFold, learning_curve\n",
        "from sklearn.preprocessing import StandardScaler, MinMaxScaler, normalize, OneHotEncoder\n",
        "\n",
        "# Neural Networks\n",
        "import tensorflow as tf\n",
        "import keras.backend as K\n",
        "from tensorflow import keras\n",
        "from sklearn.neural_network import MLPClassifier, MLPRegressor\n",
        "from keras.models import Sequential\n",
        "from keras.layers import Dense, Flatten, Dropout\n",
        "from keras.regularizers import L1, L2\n",
        "from keras.optimizers import SGD, Adam, RMSprop\n",
        "from keras.callbacks import EarlyStopping\n",
        "from scikeras.wrappers import KerasClassifier, KerasRegressor\n",
        "# from keras_tuner import RandomSearch, HyperParameters\n",
        "from sklearn.exceptions import ConvergenceWarning\n",
        "\n",
        "# Regression\n",
        "from sklearn.multioutput import MultiOutputRegressor, RegressorChain\n",
        "from sklearn.linear_model import LinearRegression, Ridge, Lasso, LogisticRegression\n",
        "# Support Vector Machines\n",
        "from sklearn.svm import LinearSVC, SVC, SVR\n",
        "# Neighbors\n",
        "from sklearn.neighbors import KNeighborsClassifier, KNeighborsRegressor\n",
        "# Tree\n",
        "from sklearn.tree import DecisionTreeClassifier, DecisionTreeRegressor\n",
        "# Bayes\n",
        "from sklearn.naive_bayes import GaussianNB, BernoulliNB, CategoricalNB\n",
        "# Ensemble\n",
        "from sklearn.ensemble import RandomForestClassifier, RandomForestRegressor, ExtraTreesClassifier, ExtraTreesRegressor, GradientBoostingClassifier, GradientBoostingRegressor\n",
        "\n",
        "# Evaluation\n",
        "from sklearn.metrics import accuracy_score, f1_score, classification_report, r2_score, confusion_matrix\n",
        "from sklearn.metrics import roc_curve, auc, roc_auc_score\n",
        "from sklearn.metrics import mean_squared_error, mean_absolute_error, log_loss\n",
        "from sklearn.metrics.pairwise import paired_distances, euclidean_distances\n",
        "from sklearn.metrics import make_scorer"
      ]
    },
    {
      "cell_type": "markdown",
      "metadata": {
        "id": "FHpcCKSoAYzu"
      },
      "source": [
        "# **<font color=\"#34ebdb\">0.1 FUNCTIONS</font>**"
      ]
    },
    {
      "cell_type": "code",
      "source": [
        "sns.set_context(font_scale=2, rc={\"font.size\":10,\"axes.titlesize\":16,\"axes.labelsize\":14})\n",
        "sns.set_style(\"whitegrid\", {'grid.linestyle': '--'})\n",
        "sns.set_style({'font.family':'serif', 'font.serif':'Computer Modern'})"
      ],
      "metadata": {
        "id": "FSigbCUr4rEJ"
      },
      "execution_count": 4,
      "outputs": []
    },
    {
      "cell_type": "code",
      "execution_count": 5,
      "metadata": {
        "id": "Q2jE2lF5-q2I"
      },
      "outputs": [],
      "source": [
        "# Function to build keras model for CUP regression\n",
        "def build_fn_cup(n_hidden_units1, n_hidden_units2, n_hidden_units3, learning_rate, lambd, ): \n",
        "    keras.backend.clear_session()\n",
        "    tf.random.set_seed(42)\n",
        "\n",
        "    model = Sequential()\n",
        "    model.add(Dense(n_hidden_units1, input_dim = X_train.shape[1], kernel_regularizer = L2(lambd), kernel_initializer = 'glorot_normal', activation = 'relu'))\n",
        "    model.add(Dense(n_hidden_units2, activation = 'relu'))\n",
        "    model.add(Dense(n_hidden_units3, activation = 'relu'))\n",
        "    model.add(Dense(y_train.shape[1], activation = 'linear'))\n",
        "    model.compile(loss = mean_euclidean_error_keras, optimizer = Adam(learning_rate = learning_rate))\n",
        "\n",
        "    return model"
      ]
    },
    {
      "cell_type": "code",
      "source": [
        "# Making MEE scorer for gridsearch\n",
        "# def mean_euclidean_error(y_true, y_pred):\n",
        "#     return np.mean(euclidean_distances(y_true, y_pred))\n",
        "\n",
        "def mean_euclidean_error(y_true, y_pred):\n",
        "    return np.mean(np.sqrt(np.sum(np.square(y_pred-y_true), axis=-1)))\n",
        "\n",
        "mee_scoring = make_scorer(mean_euclidean_error, greater_is_better = False)\n",
        "\n",
        "# Keras custom loss function\n",
        "def mean_euclidean_error_keras(y_true, y_pred):\n",
        "    return K.mean(K.sqrt(K.sum(K.square(y_pred - y_true), axis=-1)))"
      ],
      "metadata": {
        "id": "3bpBp3u-UXGD"
      },
      "execution_count": 6,
      "outputs": []
    },
    {
      "cell_type": "code",
      "execution_count": 7,
      "metadata": {
        "id": "eXNt5p8e2Gm-"
      },
      "outputs": [],
      "source": [
        "# Function to get results from regression\n",
        "def regression_results(y_true, y_pred):\n",
        "    r2 = r2_score(y_true, y_pred)\n",
        "    mse = mean_squared_error(y_true, y_pred)\n",
        "    mae = mean_absolute_error(y_true, y_pred)\n",
        "\n",
        "    return r2, mse, mae"
      ]
    },
    {
      "cell_type": "code",
      "execution_count": 8,
      "metadata": {
        "id": "vWBhgeVXTFWI"
      },
      "outputs": [],
      "source": [
        "# Function to fit mlp classifier with partial fit to get scores and loss \n",
        "def mlp_fit(mlp, max_iter):\n",
        "    train_loss = []\n",
        "    test_loss = []\n",
        "\n",
        "    for i in range(max_iter):\n",
        "        mlp.partial_fit(X_train, y_train)\n",
        "        y_pred = mlp.predict(X_train)\n",
        "        y_pred_test = mlp.predict(X_test)\n",
        "\n",
        "        train_loss.append(mean_euclidean_error(y_train, y_pred))\n",
        "        test_loss.append(mean_euclidean_error(y_test, y_pred_test))\n",
        "\n",
        "    print('Training loss:   ', round(train_loss[-1],4))\n",
        "    print('Testing loss:    ', round(test_loss[-1],4), '\\n')\n",
        "\n",
        "    return train_loss, test_loss"
      ]
    },
    {
      "cell_type": "code",
      "execution_count": 9,
      "metadata": {
        "id": "SXaqcVDUO_ZY"
      },
      "outputs": [],
      "source": [
        "# Function to create score and loss plots\n",
        "def plot_score_loss(train_loss, test_loss, save, name):\n",
        "    plt.figure(figsize = (6, 4))\n",
        "    plt.plot(train_loss, label='Train')\n",
        "    plt.plot(test_loss, label='test', linestyle='--')\n",
        "    plt.xlabel('Epochs')\n",
        "    plt.ylabel('Loss')\n",
        "    plt.legend(loc='upper right')\n",
        "    if save == 1:\n",
        "        plt.savefig(name+'_loss', dpi=400)\n",
        "    plt.show()"
      ]
    },
    {
      "cell_type": "code",
      "source": [
        "# Function to apply nested cross validation on a series of models and parameters\n",
        "def nested_cross_validation(folds, model_to_use, model_params, param_grid):\n",
        "    outer_kfold = KFold(folds, shuffle=True, random_state=42)\n",
        "    inner_kfold = KFold(folds, shuffle=True, random_state=77) \n",
        "\n",
        "    test_scores = []\n",
        "\n",
        "    X = X_train\n",
        "    y = y_train\n",
        "\n",
        "    # Outer K-Fold (Evaluation)\n",
        "    for train_indices, test_indices in outer_kfold.split(X, y):\n",
        "        # Split data into train and test\n",
        "        X_train_nested, y_train_nested = X[train_indices], y[train_indices]\n",
        "        X_test_nested, y_test_nested = X[test_indices], y[test_indices]\n",
        "        \n",
        "        models = {}\n",
        "\n",
        "        # Initializing param_grid\n",
        "        list_params = ['param'+str(i) for i in range(len(model_params))]\n",
        "        for list_params[0] in param_grid[0]:\n",
        "            for list_params[1] in param_grid[1]:\n",
        "                for list_params[2] in param_grid[2]:\n",
        "\n",
        "                    val_scores = []\n",
        "\n",
        "                    # Inner K-Fold for each hyper-parameter configuration\n",
        "                    for selection_indices, val_indices in inner_kfold.split(X_train_nested, y_train_nested):\n",
        "\n",
        "                        # Split data into selection and validation\n",
        "                        X_selection, y_selection = X_train_nested[selection_indices], y_train_nested[selection_indices]\n",
        "                        X_val, y_val = X_train_nested[val_indices], y_train_nested[val_indices]\n",
        "\n",
        "                        # Fit the model\n",
        "                        params = {model_params[i]: list_params[i] for i in range(len(model_params))}\n",
        "\n",
        "                        if name == \"Support Vector Machine\":\n",
        "                            model = model_to_use(SVR(**params))\n",
        "                        else:\n",
        "                            model = model_to_use(**params)\n",
        "\n",
        "                        model.fit(X_selection, y_selection)\n",
        "                        y_pred_val = model.predict(X_val) \n",
        "                        val_scores.append(mean_euclidean_error(y_val, y_pred_val))\n",
        "                    \n",
        "                    # Validation score of a model is the mean over the inner k-folds\n",
        "                    models[(list_params[0], list_params[1], list_params[2])] = np.mean(val_scores)\n",
        "\n",
        "        best_params = max(models, key=models.get)\n",
        "        \n",
        "        best_params_dict = {model_params[i]: best_params[i] for i in range(len(model_params))}\n",
        "\n",
        "        if name == \"Support Vector Machine\":\n",
        "            model = model_to_use(SVR(**best_params_dict))\n",
        "        else:\n",
        "            model = model_to_use(**best_params_dict)\n",
        "            \n",
        "        model.fit(X_train_nested, y_train_nested)\n",
        "        y_pred_test = model.predict(X_test_nested) \n",
        "        test_scores.append(mean_euclidean_error(y_test_nested, y_pred_test))\n",
        "\n",
        "    avg_mee = round(np.mean(test_scores), 4)\n",
        "    std_mee = round(np.std(test_scores), 4)\n",
        "\n",
        "    return avg_mee, std_mee"
      ],
      "metadata": {
        "id": "ygGL5MqAhDyb"
      },
      "execution_count": 10,
      "outputs": []
    },
    {
      "cell_type": "markdown",
      "metadata": {
        "id": "IZNMCRUrxwlU"
      },
      "source": [
        "# **<font color=\"#34ebdb\">1.0 DATA UNDERSTANDING & PREPARATION</font>**"
      ]
    },
    {
      "cell_type": "code",
      "execution_count": 11,
      "metadata": {
        "colab": {
          "base_uri": "https://localhost:8080/"
        },
        "id": "QtBcIn6muqJk",
        "outputId": "5fbb5f15-0204-4dd3-f78e-7da07168ff67"
      },
      "outputs": [
        {
          "output_type": "stream",
          "name": "stdout",
          "text": [
            "Mounted at /content/drive\n"
          ]
        }
      ],
      "source": [
        "# Monto il Drive per accedere ai file, basta avere una scorciatoia alla cartella \"CUP\" nella cartella principale del vostro drive\n",
        "from google.colab import drive\n",
        "drive.mount('/content/drive') \n",
        "\n",
        "# Creating local files to access more easily\n",
        "!mkdir dataset\n",
        "\n",
        "!cp -r /content/drive/MyDrive/CUP /content/dataset"
      ]
    },
    {
      "cell_type": "code",
      "execution_count": 12,
      "metadata": {
        "colab": {
          "base_uri": "https://localhost:8080/",
          "height": 552
        },
        "id": "RKoIekiiyDzx",
        "outputId": "cb4da070-b2e1-4153-8092-d026db0fdede"
      },
      "outputs": [
        {
          "output_type": "stream",
          "name": "stdout",
          "text": [
            "<class 'pandas.core.frame.DataFrame'>\n",
            "RangeIndex: 1492 entries, 0 to 1491\n",
            "Data columns (total 11 columns):\n",
            " #   Column    Non-Null Count  Dtype  \n",
            "---  ------    --------------  -----  \n",
            " 0   1         1492 non-null   float64\n",
            " 1   2         1492 non-null   float64\n",
            " 2   3         1492 non-null   float64\n",
            " 3   4         1492 non-null   float64\n",
            " 4   5         1492 non-null   float64\n",
            " 5   6         1492 non-null   float64\n",
            " 6   7         1492 non-null   float64\n",
            " 7   8         1492 non-null   float64\n",
            " 8   9         1492 non-null   float64\n",
            " 9   target_x  1492 non-null   float64\n",
            " 10  target_y  1492 non-null   float64\n",
            "dtypes: float64(11)\n",
            "memory usage: 128.3 KB\n",
            "None\n"
          ]
        },
        {
          "output_type": "execute_result",
          "data": {
            "text/plain": [
              "          1         2         3         4         5         6         7  \\\n",
              "0 -1.704815  1.503106 -0.817083  1.353560 -1.293660  1.362608  0.217795   \n",
              "1 -0.888962  0.711473 -0.480023  0.748175 -0.981763  1.765482 -0.445018   \n",
              "2  1.143802 -1.591273  0.670477 -0.948551  1.075740 -0.908309 -0.694223   \n",
              "3  0.630938 -0.295533  1.379162 -0.041045 -0.250695  0.025003  0.143915   \n",
              "4  1.799449 -0.913254  1.245698 -1.410940  0.653328 -0.677108 -0.667490   \n",
              "\n",
              "          8         9   target_x   target_y  \n",
              "0  0.462728 -1.237246  22.222923 -27.036774  \n",
              "1  1.719143 -1.096250  18.885520 -28.377440  \n",
              "2 -1.321391  0.662656   4.587627 -18.507566  \n",
              "3  0.861455  0.879540  10.256820 -30.017064  \n",
              "4 -0.849795  0.497977   4.916182 -17.670030  "
            ],
            "text/html": [
              "\n",
              "  <div id=\"df-6689fd40-db83-4872-93a9-c3962137b986\">\n",
              "    <div class=\"colab-df-container\">\n",
              "      <div>\n",
              "<style scoped>\n",
              "    .dataframe tbody tr th:only-of-type {\n",
              "        vertical-align: middle;\n",
              "    }\n",
              "\n",
              "    .dataframe tbody tr th {\n",
              "        vertical-align: top;\n",
              "    }\n",
              "\n",
              "    .dataframe thead th {\n",
              "        text-align: right;\n",
              "    }\n",
              "</style>\n",
              "<table border=\"1\" class=\"dataframe\">\n",
              "  <thead>\n",
              "    <tr style=\"text-align: right;\">\n",
              "      <th></th>\n",
              "      <th>1</th>\n",
              "      <th>2</th>\n",
              "      <th>3</th>\n",
              "      <th>4</th>\n",
              "      <th>5</th>\n",
              "      <th>6</th>\n",
              "      <th>7</th>\n",
              "      <th>8</th>\n",
              "      <th>9</th>\n",
              "      <th>target_x</th>\n",
              "      <th>target_y</th>\n",
              "    </tr>\n",
              "  </thead>\n",
              "  <tbody>\n",
              "    <tr>\n",
              "      <th>0</th>\n",
              "      <td>-1.704815</td>\n",
              "      <td>1.503106</td>\n",
              "      <td>-0.817083</td>\n",
              "      <td>1.353560</td>\n",
              "      <td>-1.293660</td>\n",
              "      <td>1.362608</td>\n",
              "      <td>0.217795</td>\n",
              "      <td>0.462728</td>\n",
              "      <td>-1.237246</td>\n",
              "      <td>22.222923</td>\n",
              "      <td>-27.036774</td>\n",
              "    </tr>\n",
              "    <tr>\n",
              "      <th>1</th>\n",
              "      <td>-0.888962</td>\n",
              "      <td>0.711473</td>\n",
              "      <td>-0.480023</td>\n",
              "      <td>0.748175</td>\n",
              "      <td>-0.981763</td>\n",
              "      <td>1.765482</td>\n",
              "      <td>-0.445018</td>\n",
              "      <td>1.719143</td>\n",
              "      <td>-1.096250</td>\n",
              "      <td>18.885520</td>\n",
              "      <td>-28.377440</td>\n",
              "    </tr>\n",
              "    <tr>\n",
              "      <th>2</th>\n",
              "      <td>1.143802</td>\n",
              "      <td>-1.591273</td>\n",
              "      <td>0.670477</td>\n",
              "      <td>-0.948551</td>\n",
              "      <td>1.075740</td>\n",
              "      <td>-0.908309</td>\n",
              "      <td>-0.694223</td>\n",
              "      <td>-1.321391</td>\n",
              "      <td>0.662656</td>\n",
              "      <td>4.587627</td>\n",
              "      <td>-18.507566</td>\n",
              "    </tr>\n",
              "    <tr>\n",
              "      <th>3</th>\n",
              "      <td>0.630938</td>\n",
              "      <td>-0.295533</td>\n",
              "      <td>1.379162</td>\n",
              "      <td>-0.041045</td>\n",
              "      <td>-0.250695</td>\n",
              "      <td>0.025003</td>\n",
              "      <td>0.143915</td>\n",
              "      <td>0.861455</td>\n",
              "      <td>0.879540</td>\n",
              "      <td>10.256820</td>\n",
              "      <td>-30.017064</td>\n",
              "    </tr>\n",
              "    <tr>\n",
              "      <th>4</th>\n",
              "      <td>1.799449</td>\n",
              "      <td>-0.913254</td>\n",
              "      <td>1.245698</td>\n",
              "      <td>-1.410940</td>\n",
              "      <td>0.653328</td>\n",
              "      <td>-0.677108</td>\n",
              "      <td>-0.667490</td>\n",
              "      <td>-0.849795</td>\n",
              "      <td>0.497977</td>\n",
              "      <td>4.916182</td>\n",
              "      <td>-17.670030</td>\n",
              "    </tr>\n",
              "  </tbody>\n",
              "</table>\n",
              "</div>\n",
              "      <button class=\"colab-df-convert\" onclick=\"convertToInteractive('df-6689fd40-db83-4872-93a9-c3962137b986')\"\n",
              "              title=\"Convert this dataframe to an interactive table.\"\n",
              "              style=\"display:none;\">\n",
              "        \n",
              "  <svg xmlns=\"http://www.w3.org/2000/svg\" height=\"24px\"viewBox=\"0 0 24 24\"\n",
              "       width=\"24px\">\n",
              "    <path d=\"M0 0h24v24H0V0z\" fill=\"none\"/>\n",
              "    <path d=\"M18.56 5.44l.94 2.06.94-2.06 2.06-.94-2.06-.94-.94-2.06-.94 2.06-2.06.94zm-11 1L8.5 8.5l.94-2.06 2.06-.94-2.06-.94L8.5 2.5l-.94 2.06-2.06.94zm10 10l.94 2.06.94-2.06 2.06-.94-2.06-.94-.94-2.06-.94 2.06-2.06.94z\"/><path d=\"M17.41 7.96l-1.37-1.37c-.4-.4-.92-.59-1.43-.59-.52 0-1.04.2-1.43.59L10.3 9.45l-7.72 7.72c-.78.78-.78 2.05 0 2.83L4 21.41c.39.39.9.59 1.41.59.51 0 1.02-.2 1.41-.59l7.78-7.78 2.81-2.81c.8-.78.8-2.07 0-2.86zM5.41 20L4 18.59l7.72-7.72 1.47 1.35L5.41 20z\"/>\n",
              "  </svg>\n",
              "      </button>\n",
              "      \n",
              "  <style>\n",
              "    .colab-df-container {\n",
              "      display:flex;\n",
              "      flex-wrap:wrap;\n",
              "      gap: 12px;\n",
              "    }\n",
              "\n",
              "    .colab-df-convert {\n",
              "      background-color: #E8F0FE;\n",
              "      border: none;\n",
              "      border-radius: 50%;\n",
              "      cursor: pointer;\n",
              "      display: none;\n",
              "      fill: #1967D2;\n",
              "      height: 32px;\n",
              "      padding: 0 0 0 0;\n",
              "      width: 32px;\n",
              "    }\n",
              "\n",
              "    .colab-df-convert:hover {\n",
              "      background-color: #E2EBFA;\n",
              "      box-shadow: 0px 1px 2px rgba(60, 64, 67, 0.3), 0px 1px 3px 1px rgba(60, 64, 67, 0.15);\n",
              "      fill: #174EA6;\n",
              "    }\n",
              "\n",
              "    [theme=dark] .colab-df-convert {\n",
              "      background-color: #3B4455;\n",
              "      fill: #D2E3FC;\n",
              "    }\n",
              "\n",
              "    [theme=dark] .colab-df-convert:hover {\n",
              "      background-color: #434B5C;\n",
              "      box-shadow: 0px 1px 3px 1px rgba(0, 0, 0, 0.15);\n",
              "      filter: drop-shadow(0px 1px 2px rgba(0, 0, 0, 0.3));\n",
              "      fill: #FFFFFF;\n",
              "    }\n",
              "  </style>\n",
              "\n",
              "      <script>\n",
              "        const buttonEl =\n",
              "          document.querySelector('#df-6689fd40-db83-4872-93a9-c3962137b986 button.colab-df-convert');\n",
              "        buttonEl.style.display =\n",
              "          google.colab.kernel.accessAllowed ? 'block' : 'none';\n",
              "\n",
              "        async function convertToInteractive(key) {\n",
              "          const element = document.querySelector('#df-6689fd40-db83-4872-93a9-c3962137b986');\n",
              "          const dataTable =\n",
              "            await google.colab.kernel.invokeFunction('convertToInteractive',\n",
              "                                                     [key], {});\n",
              "          if (!dataTable) return;\n",
              "\n",
              "          const docLinkHtml = 'Like what you see? Visit the ' +\n",
              "            '<a target=\"_blank\" href=https://colab.research.google.com/notebooks/data_table.ipynb>data table notebook</a>'\n",
              "            + ' to learn more about interactive tables.';\n",
              "          element.innerHTML = '';\n",
              "          dataTable['output_type'] = 'display_data';\n",
              "          await google.colab.output.renderOutput(dataTable, element);\n",
              "          const docLink = document.createElement('div');\n",
              "          docLink.innerHTML = docLinkHtml;\n",
              "          element.appendChild(docLink);\n",
              "        }\n",
              "      </script>\n",
              "    </div>\n",
              "  </div>\n",
              "  "
            ]
          },
          "metadata": {},
          "execution_count": 12
        }
      ],
      "source": [
        "# Reading csv file to create pandas dataframe, assigning target_x and target_y column names\n",
        "TR_CUP = pd.read_csv('/content/dataset/CUP/ML-CUP22-TR.csv', header=None, comment='#') \n",
        "TR_CUP.drop(labels=0, axis=1, inplace=True)\n",
        "TR_CUP.rename({10: 'target_x', 11: 'target_y'}, axis=1, inplace=True)\n",
        "\n",
        "# Overview of the structure and info of dataframe\n",
        "print(TR_CUP.info())\n",
        "TR_CUP.head()"
      ]
    },
    {
      "cell_type": "code",
      "execution_count": 13,
      "metadata": {
        "colab": {
          "base_uri": "https://localhost:8080/",
          "height": 516
        },
        "id": "soITckhrzYlS",
        "outputId": "56caa0e6-3e72-4032-a56d-b8fd1b358330"
      },
      "outputs": [
        {
          "output_type": "stream",
          "name": "stdout",
          "text": [
            "<class 'pandas.core.frame.DataFrame'>\n",
            "RangeIndex: 529 entries, 0 to 528\n",
            "Data columns (total 9 columns):\n",
            " #   Column  Non-Null Count  Dtype  \n",
            "---  ------  --------------  -----  \n",
            " 0   1       529 non-null    float64\n",
            " 1   2       529 non-null    float64\n",
            " 2   3       529 non-null    float64\n",
            " 3   4       529 non-null    float64\n",
            " 4   5       529 non-null    float64\n",
            " 5   6       529 non-null    float64\n",
            " 6   7       529 non-null    float64\n",
            " 7   8       529 non-null    float64\n",
            " 8   9       529 non-null    float64\n",
            "dtypes: float64(9)\n",
            "memory usage: 37.3 KB\n",
            "None\n"
          ]
        },
        {
          "output_type": "execute_result",
          "data": {
            "text/plain": [
              "          1         2         3         4         5         6         7  \\\n",
              "0 -1.295403  1.471468 -0.394740  0.982752 -1.287838  1.427106 -0.052994   \n",
              "1  0.351257 -0.583818  1.673024 -1.045503  0.566956 -0.603433  0.417183   \n",
              "2  0.076491  0.551166  0.157875  0.545169 -0.189986  0.876511  2.167689   \n",
              "3 -1.362116  1.111719 -0.593551  0.713629 -1.174274  1.767917  0.152496   \n",
              "4  1.261212 -0.816557 -0.218964 -0.875395  0.518453 -0.854788  0.150214   \n",
              "\n",
              "          8         9  \n",
              "0  0.890491 -1.258837  \n",
              "1 -0.516325  0.902252  \n",
              "2  0.621724  0.259727  \n",
              "3  1.152507 -0.851621  \n",
              "4 -0.858207  1.426335  "
            ],
            "text/html": [
              "\n",
              "  <div id=\"df-3a7401b2-6c5f-4e91-b27f-3c7df17a698d\">\n",
              "    <div class=\"colab-df-container\">\n",
              "      <div>\n",
              "<style scoped>\n",
              "    .dataframe tbody tr th:only-of-type {\n",
              "        vertical-align: middle;\n",
              "    }\n",
              "\n",
              "    .dataframe tbody tr th {\n",
              "        vertical-align: top;\n",
              "    }\n",
              "\n",
              "    .dataframe thead th {\n",
              "        text-align: right;\n",
              "    }\n",
              "</style>\n",
              "<table border=\"1\" class=\"dataframe\">\n",
              "  <thead>\n",
              "    <tr style=\"text-align: right;\">\n",
              "      <th></th>\n",
              "      <th>1</th>\n",
              "      <th>2</th>\n",
              "      <th>3</th>\n",
              "      <th>4</th>\n",
              "      <th>5</th>\n",
              "      <th>6</th>\n",
              "      <th>7</th>\n",
              "      <th>8</th>\n",
              "      <th>9</th>\n",
              "    </tr>\n",
              "  </thead>\n",
              "  <tbody>\n",
              "    <tr>\n",
              "      <th>0</th>\n",
              "      <td>-1.295403</td>\n",
              "      <td>1.471468</td>\n",
              "      <td>-0.394740</td>\n",
              "      <td>0.982752</td>\n",
              "      <td>-1.287838</td>\n",
              "      <td>1.427106</td>\n",
              "      <td>-0.052994</td>\n",
              "      <td>0.890491</td>\n",
              "      <td>-1.258837</td>\n",
              "    </tr>\n",
              "    <tr>\n",
              "      <th>1</th>\n",
              "      <td>0.351257</td>\n",
              "      <td>-0.583818</td>\n",
              "      <td>1.673024</td>\n",
              "      <td>-1.045503</td>\n",
              "      <td>0.566956</td>\n",
              "      <td>-0.603433</td>\n",
              "      <td>0.417183</td>\n",
              "      <td>-0.516325</td>\n",
              "      <td>0.902252</td>\n",
              "    </tr>\n",
              "    <tr>\n",
              "      <th>2</th>\n",
              "      <td>0.076491</td>\n",
              "      <td>0.551166</td>\n",
              "      <td>0.157875</td>\n",
              "      <td>0.545169</td>\n",
              "      <td>-0.189986</td>\n",
              "      <td>0.876511</td>\n",
              "      <td>2.167689</td>\n",
              "      <td>0.621724</td>\n",
              "      <td>0.259727</td>\n",
              "    </tr>\n",
              "    <tr>\n",
              "      <th>3</th>\n",
              "      <td>-1.362116</td>\n",
              "      <td>1.111719</td>\n",
              "      <td>-0.593551</td>\n",
              "      <td>0.713629</td>\n",
              "      <td>-1.174274</td>\n",
              "      <td>1.767917</td>\n",
              "      <td>0.152496</td>\n",
              "      <td>1.152507</td>\n",
              "      <td>-0.851621</td>\n",
              "    </tr>\n",
              "    <tr>\n",
              "      <th>4</th>\n",
              "      <td>1.261212</td>\n",
              "      <td>-0.816557</td>\n",
              "      <td>-0.218964</td>\n",
              "      <td>-0.875395</td>\n",
              "      <td>0.518453</td>\n",
              "      <td>-0.854788</td>\n",
              "      <td>0.150214</td>\n",
              "      <td>-0.858207</td>\n",
              "      <td>1.426335</td>\n",
              "    </tr>\n",
              "  </tbody>\n",
              "</table>\n",
              "</div>\n",
              "      <button class=\"colab-df-convert\" onclick=\"convertToInteractive('df-3a7401b2-6c5f-4e91-b27f-3c7df17a698d')\"\n",
              "              title=\"Convert this dataframe to an interactive table.\"\n",
              "              style=\"display:none;\">\n",
              "        \n",
              "  <svg xmlns=\"http://www.w3.org/2000/svg\" height=\"24px\"viewBox=\"0 0 24 24\"\n",
              "       width=\"24px\">\n",
              "    <path d=\"M0 0h24v24H0V0z\" fill=\"none\"/>\n",
              "    <path d=\"M18.56 5.44l.94 2.06.94-2.06 2.06-.94-2.06-.94-.94-2.06-.94 2.06-2.06.94zm-11 1L8.5 8.5l.94-2.06 2.06-.94-2.06-.94L8.5 2.5l-.94 2.06-2.06.94zm10 10l.94 2.06.94-2.06 2.06-.94-2.06-.94-.94-2.06-.94 2.06-2.06.94z\"/><path d=\"M17.41 7.96l-1.37-1.37c-.4-.4-.92-.59-1.43-.59-.52 0-1.04.2-1.43.59L10.3 9.45l-7.72 7.72c-.78.78-.78 2.05 0 2.83L4 21.41c.39.39.9.59 1.41.59.51 0 1.02-.2 1.41-.59l7.78-7.78 2.81-2.81c.8-.78.8-2.07 0-2.86zM5.41 20L4 18.59l7.72-7.72 1.47 1.35L5.41 20z\"/>\n",
              "  </svg>\n",
              "      </button>\n",
              "      \n",
              "  <style>\n",
              "    .colab-df-container {\n",
              "      display:flex;\n",
              "      flex-wrap:wrap;\n",
              "      gap: 12px;\n",
              "    }\n",
              "\n",
              "    .colab-df-convert {\n",
              "      background-color: #E8F0FE;\n",
              "      border: none;\n",
              "      border-radius: 50%;\n",
              "      cursor: pointer;\n",
              "      display: none;\n",
              "      fill: #1967D2;\n",
              "      height: 32px;\n",
              "      padding: 0 0 0 0;\n",
              "      width: 32px;\n",
              "    }\n",
              "\n",
              "    .colab-df-convert:hover {\n",
              "      background-color: #E2EBFA;\n",
              "      box-shadow: 0px 1px 2px rgba(60, 64, 67, 0.3), 0px 1px 3px 1px rgba(60, 64, 67, 0.15);\n",
              "      fill: #174EA6;\n",
              "    }\n",
              "\n",
              "    [theme=dark] .colab-df-convert {\n",
              "      background-color: #3B4455;\n",
              "      fill: #D2E3FC;\n",
              "    }\n",
              "\n",
              "    [theme=dark] .colab-df-convert:hover {\n",
              "      background-color: #434B5C;\n",
              "      box-shadow: 0px 1px 3px 1px rgba(0, 0, 0, 0.15);\n",
              "      filter: drop-shadow(0px 1px 2px rgba(0, 0, 0, 0.3));\n",
              "      fill: #FFFFFF;\n",
              "    }\n",
              "  </style>\n",
              "\n",
              "      <script>\n",
              "        const buttonEl =\n",
              "          document.querySelector('#df-3a7401b2-6c5f-4e91-b27f-3c7df17a698d button.colab-df-convert');\n",
              "        buttonEl.style.display =\n",
              "          google.colab.kernel.accessAllowed ? 'block' : 'none';\n",
              "\n",
              "        async function convertToInteractive(key) {\n",
              "          const element = document.querySelector('#df-3a7401b2-6c5f-4e91-b27f-3c7df17a698d');\n",
              "          const dataTable =\n",
              "            await google.colab.kernel.invokeFunction('convertToInteractive',\n",
              "                                                     [key], {});\n",
              "          if (!dataTable) return;\n",
              "\n",
              "          const docLinkHtml = 'Like what you see? Visit the ' +\n",
              "            '<a target=\"_blank\" href=https://colab.research.google.com/notebooks/data_table.ipynb>data table notebook</a>'\n",
              "            + ' to learn more about interactive tables.';\n",
              "          element.innerHTML = '';\n",
              "          dataTable['output_type'] = 'display_data';\n",
              "          await google.colab.output.renderOutput(dataTable, element);\n",
              "          const docLink = document.createElement('div');\n",
              "          docLink.innerHTML = docLinkHtml;\n",
              "          element.appendChild(docLink);\n",
              "        }\n",
              "      </script>\n",
              "    </div>\n",
              "  </div>\n",
              "  "
            ]
          },
          "metadata": {},
          "execution_count": 13
        }
      ],
      "source": [
        "# Repeating the previous steps, this time for test set\n",
        "TS_CUP = pd.read_csv('/content/dataset/CUP/ML-CUP22-TS.csv', header=None, comment='#') \n",
        "TS_CUP.drop(labels=0, axis=1, inplace=True)\n",
        "print(TS_CUP.info())\n",
        "TS_CUP.head()"
      ]
    },
    {
      "cell_type": "code",
      "execution_count": 14,
      "metadata": {
        "colab": {
          "base_uri": "https://localhost:8080/"
        },
        "id": "1hI5KcDlZTj_",
        "outputId": "6d973b10-fe6c-4d14-c759-63da1a38526d"
      },
      "outputs": [
        {
          "output_type": "stream",
          "name": "stdout",
          "text": [
            "(1492, 9) (1492, 2)\n",
            "(529, 9)\n"
          ]
        }
      ],
      "source": [
        "# X takes values of attributes 1 to 9, while y takes the targets x and y\n",
        "X_CUP_train = TR_CUP.values[:,0:9].astype(np.float32)\n",
        "y_CUP_train = TR_CUP.values[:,9:11].astype(np.float32)\n",
        "\n",
        "X_CUP_test = TS_CUP.values.astype(np.float32)\n",
        "\n",
        "# Looking at the shape of the values\n",
        "print(X_CUP_train.shape, y_CUP_train.shape)\n",
        "print(X_CUP_test.shape)"
      ]
    },
    {
      "cell_type": "code",
      "execution_count": 15,
      "metadata": {
        "colab": {
          "base_uri": "https://localhost:8080/"
        },
        "id": "nnDXSrDT-q2K",
        "outputId": "39f4cd83-a019-4ebe-eb30-03c33be5e7a1"
      },
      "outputs": [
        {
          "output_type": "stream",
          "name": "stdout",
          "text": [
            "Dataset: 1492\n",
            "TR:      1342\n",
            "TS:      150\n",
            "Blind:   529\n"
          ]
        }
      ],
      "source": [
        "# Validation schema\n",
        "X_train, X_test, y_train, y_test = train_test_split(X_CUP_train, y_CUP_train, test_size = .1, random_state = 42)\n",
        "# X_train, X_val, y_train, y_val = train_test_split(X_train_full, y_train_full, test_size = .2, random_state = 0)\n",
        "X_test_blind = X_CUP_test\n",
        "\n",
        "min_max_scaler = MinMaxScaler()\n",
        "X_train = min_max_scaler.fit_transform(X_train)\n",
        "# X_val = min_max_scaler.fit_transform(X_val)\n",
        "X_test = min_max_scaler.fit_transform(X_test)\n",
        "\n",
        "print('Dataset:', X_CUP_train.shape[0])\n",
        "print('TR:     ', X_train.shape[0])\n",
        "# print('Validation set:   ', X_val.shape[0])\n",
        "print('TS:     ', X_test.shape[0])\n",
        "print('Blind:  ', X_test_blind.shape[0])"
      ]
    },
    {
      "cell_type": "code",
      "execution_count": 16,
      "metadata": {
        "colab": {
          "base_uri": "https://localhost:8080/"
        },
        "id": "Z5_DFm3h-q2L",
        "outputId": "0b0e83a4-835d-4c28-f0da-e7071433a097"
      },
      "outputs": [
        {
          "output_type": "execute_result",
          "data": {
            "text/plain": [
              "(0.8270168096123083, 4.000409, 1.5895364)"
            ]
          },
          "metadata": {},
          "execution_count": 16
        }
      ],
      "source": [
        "model = LinearRegression().fit(X_train, y_train)\n",
        "y_pred = model.predict(X_test)\n",
        "regression_results(y_test, y_pred)"
      ]
    },
    {
      "cell_type": "code",
      "execution_count": 17,
      "metadata": {
        "colab": {
          "base_uri": "https://localhost:8080/",
          "height": 423
        },
        "id": "5DIkEXwczNv1",
        "outputId": "591de4b8-8642-4f77-878b-6c2f79a2b21f"
      },
      "outputs": [
        {
          "output_type": "execute_result",
          "data": {
            "text/plain": [
              "     True x_target  Pred x_target  True y_target  Pred y_target\n",
              "0         8.240253       6.673492     -28.361589     -25.772501\n",
              "1        21.146860      20.210459     -29.024191     -29.414347\n",
              "2        17.441263      20.063807     -29.298223     -26.983648\n",
              "3        16.170891      16.064413     -29.233570     -31.620787\n",
              "4         4.336274       4.393714     -22.644592     -24.024273\n",
              "..             ...            ...            ...            ...\n",
              "145       4.800615       5.992147     -19.232483     -20.155365\n",
              "146      12.941359      13.414674     -30.530289     -27.394241\n",
              "147       4.408616       3.357135     -22.928535     -25.194374\n",
              "148      17.921104      20.961601     -28.490801     -29.061752\n",
              "149       8.251192       9.046943     -28.475084     -27.351055\n",
              "\n",
              "[150 rows x 4 columns]"
            ],
            "text/html": [
              "\n",
              "  <div id=\"df-8ae27e62-1c07-4ab2-a6ab-c417e28087a1\">\n",
              "    <div class=\"colab-df-container\">\n",
              "      <div>\n",
              "<style scoped>\n",
              "    .dataframe tbody tr th:only-of-type {\n",
              "        vertical-align: middle;\n",
              "    }\n",
              "\n",
              "    .dataframe tbody tr th {\n",
              "        vertical-align: top;\n",
              "    }\n",
              "\n",
              "    .dataframe thead th {\n",
              "        text-align: right;\n",
              "    }\n",
              "</style>\n",
              "<table border=\"1\" class=\"dataframe\">\n",
              "  <thead>\n",
              "    <tr style=\"text-align: right;\">\n",
              "      <th></th>\n",
              "      <th>True x_target</th>\n",
              "      <th>Pred x_target</th>\n",
              "      <th>True y_target</th>\n",
              "      <th>Pred y_target</th>\n",
              "    </tr>\n",
              "  </thead>\n",
              "  <tbody>\n",
              "    <tr>\n",
              "      <th>0</th>\n",
              "      <td>8.240253</td>\n",
              "      <td>6.673492</td>\n",
              "      <td>-28.361589</td>\n",
              "      <td>-25.772501</td>\n",
              "    </tr>\n",
              "    <tr>\n",
              "      <th>1</th>\n",
              "      <td>21.146860</td>\n",
              "      <td>20.210459</td>\n",
              "      <td>-29.024191</td>\n",
              "      <td>-29.414347</td>\n",
              "    </tr>\n",
              "    <tr>\n",
              "      <th>2</th>\n",
              "      <td>17.441263</td>\n",
              "      <td>20.063807</td>\n",
              "      <td>-29.298223</td>\n",
              "      <td>-26.983648</td>\n",
              "    </tr>\n",
              "    <tr>\n",
              "      <th>3</th>\n",
              "      <td>16.170891</td>\n",
              "      <td>16.064413</td>\n",
              "      <td>-29.233570</td>\n",
              "      <td>-31.620787</td>\n",
              "    </tr>\n",
              "    <tr>\n",
              "      <th>4</th>\n",
              "      <td>4.336274</td>\n",
              "      <td>4.393714</td>\n",
              "      <td>-22.644592</td>\n",
              "      <td>-24.024273</td>\n",
              "    </tr>\n",
              "    <tr>\n",
              "      <th>...</th>\n",
              "      <td>...</td>\n",
              "      <td>...</td>\n",
              "      <td>...</td>\n",
              "      <td>...</td>\n",
              "    </tr>\n",
              "    <tr>\n",
              "      <th>145</th>\n",
              "      <td>4.800615</td>\n",
              "      <td>5.992147</td>\n",
              "      <td>-19.232483</td>\n",
              "      <td>-20.155365</td>\n",
              "    </tr>\n",
              "    <tr>\n",
              "      <th>146</th>\n",
              "      <td>12.941359</td>\n",
              "      <td>13.414674</td>\n",
              "      <td>-30.530289</td>\n",
              "      <td>-27.394241</td>\n",
              "    </tr>\n",
              "    <tr>\n",
              "      <th>147</th>\n",
              "      <td>4.408616</td>\n",
              "      <td>3.357135</td>\n",
              "      <td>-22.928535</td>\n",
              "      <td>-25.194374</td>\n",
              "    </tr>\n",
              "    <tr>\n",
              "      <th>148</th>\n",
              "      <td>17.921104</td>\n",
              "      <td>20.961601</td>\n",
              "      <td>-28.490801</td>\n",
              "      <td>-29.061752</td>\n",
              "    </tr>\n",
              "    <tr>\n",
              "      <th>149</th>\n",
              "      <td>8.251192</td>\n",
              "      <td>9.046943</td>\n",
              "      <td>-28.475084</td>\n",
              "      <td>-27.351055</td>\n",
              "    </tr>\n",
              "  </tbody>\n",
              "</table>\n",
              "<p>150 rows × 4 columns</p>\n",
              "</div>\n",
              "      <button class=\"colab-df-convert\" onclick=\"convertToInteractive('df-8ae27e62-1c07-4ab2-a6ab-c417e28087a1')\"\n",
              "              title=\"Convert this dataframe to an interactive table.\"\n",
              "              style=\"display:none;\">\n",
              "        \n",
              "  <svg xmlns=\"http://www.w3.org/2000/svg\" height=\"24px\"viewBox=\"0 0 24 24\"\n",
              "       width=\"24px\">\n",
              "    <path d=\"M0 0h24v24H0V0z\" fill=\"none\"/>\n",
              "    <path d=\"M18.56 5.44l.94 2.06.94-2.06 2.06-.94-2.06-.94-.94-2.06-.94 2.06-2.06.94zm-11 1L8.5 8.5l.94-2.06 2.06-.94-2.06-.94L8.5 2.5l-.94 2.06-2.06.94zm10 10l.94 2.06.94-2.06 2.06-.94-2.06-.94-.94-2.06-.94 2.06-2.06.94z\"/><path d=\"M17.41 7.96l-1.37-1.37c-.4-.4-.92-.59-1.43-.59-.52 0-1.04.2-1.43.59L10.3 9.45l-7.72 7.72c-.78.78-.78 2.05 0 2.83L4 21.41c.39.39.9.59 1.41.59.51 0 1.02-.2 1.41-.59l7.78-7.78 2.81-2.81c.8-.78.8-2.07 0-2.86zM5.41 20L4 18.59l7.72-7.72 1.47 1.35L5.41 20z\"/>\n",
              "  </svg>\n",
              "      </button>\n",
              "      \n",
              "  <style>\n",
              "    .colab-df-container {\n",
              "      display:flex;\n",
              "      flex-wrap:wrap;\n",
              "      gap: 12px;\n",
              "    }\n",
              "\n",
              "    .colab-df-convert {\n",
              "      background-color: #E8F0FE;\n",
              "      border: none;\n",
              "      border-radius: 50%;\n",
              "      cursor: pointer;\n",
              "      display: none;\n",
              "      fill: #1967D2;\n",
              "      height: 32px;\n",
              "      padding: 0 0 0 0;\n",
              "      width: 32px;\n",
              "    }\n",
              "\n",
              "    .colab-df-convert:hover {\n",
              "      background-color: #E2EBFA;\n",
              "      box-shadow: 0px 1px 2px rgba(60, 64, 67, 0.3), 0px 1px 3px 1px rgba(60, 64, 67, 0.15);\n",
              "      fill: #174EA6;\n",
              "    }\n",
              "\n",
              "    [theme=dark] .colab-df-convert {\n",
              "      background-color: #3B4455;\n",
              "      fill: #D2E3FC;\n",
              "    }\n",
              "\n",
              "    [theme=dark] .colab-df-convert:hover {\n",
              "      background-color: #434B5C;\n",
              "      box-shadow: 0px 1px 3px 1px rgba(0, 0, 0, 0.15);\n",
              "      filter: drop-shadow(0px 1px 2px rgba(0, 0, 0, 0.3));\n",
              "      fill: #FFFFFF;\n",
              "    }\n",
              "  </style>\n",
              "\n",
              "      <script>\n",
              "        const buttonEl =\n",
              "          document.querySelector('#df-8ae27e62-1c07-4ab2-a6ab-c417e28087a1 button.colab-df-convert');\n",
              "        buttonEl.style.display =\n",
              "          google.colab.kernel.accessAllowed ? 'block' : 'none';\n",
              "\n",
              "        async function convertToInteractive(key) {\n",
              "          const element = document.querySelector('#df-8ae27e62-1c07-4ab2-a6ab-c417e28087a1');\n",
              "          const dataTable =\n",
              "            await google.colab.kernel.invokeFunction('convertToInteractive',\n",
              "                                                     [key], {});\n",
              "          if (!dataTable) return;\n",
              "\n",
              "          const docLinkHtml = 'Like what you see? Visit the ' +\n",
              "            '<a target=\"_blank\" href=https://colab.research.google.com/notebooks/data_table.ipynb>data table notebook</a>'\n",
              "            + ' to learn more about interactive tables.';\n",
              "          element.innerHTML = '';\n",
              "          dataTable['output_type'] = 'display_data';\n",
              "          await google.colab.output.renderOutput(dataTable, element);\n",
              "          const docLink = document.createElement('div');\n",
              "          docLink.innerHTML = docLinkHtml;\n",
              "          element.appendChild(docLink);\n",
              "        }\n",
              "      </script>\n",
              "    </div>\n",
              "  </div>\n",
              "  "
            ]
          },
          "metadata": {},
          "execution_count": 17
        }
      ],
      "source": [
        "# blind_test_results = pd.DataFrame({'Pred x_target': y_pred[:,0], 'Pred y_target': y_pred[:,1]})\n",
        "test_results = pd.DataFrame({'True x_target': y_test[:,0], 'Pred x_target': y_pred[:,0], 'True y_target': y_test[:,1], 'Pred y_target': y_pred[:,1]})\n",
        "test_results"
      ]
    },
    {
      "cell_type": "markdown",
      "metadata": {
        "id": "e9qxVLCb-q2R"
      },
      "source": [
        "# **<font color=\"#34ebdb\">2.0 NEURAL NETWORKS</font>**"
      ]
    },
    {
      "cell_type": "markdown",
      "metadata": {
        "id": "tb4qH9IQ-q2Z"
      },
      "source": [
        "### **<font color=\"#CEFF5E\">KERAS</font>**"
      ]
    },
    {
      "cell_type": "code",
      "execution_count": null,
      "metadata": {
        "colab": {
          "base_uri": "https://localhost:8080/"
        },
        "id": "eyYo3b0--q2a",
        "outputId": "28ad7fe0-dc41-4197-d3c9-7fd9d6c45b78"
      },
      "outputs": [
        {
          "output_type": "stream",
          "name": "stdout",
          "text": [
            "Fitting 5 folds for each of 250 candidates, totalling 1250 fits\n",
            "Best score: -1.8237561464309693 \n",
            "Best params {'batch_size': 512, 'lambd': 0, 'learning_rate': 0.01, 'n_hidden_units1': 30, 'n_hidden_units2': 80, 'n_hidden_units3': 80}\n"
          ]
        }
      ],
      "source": [
        "model = KerasRegressor(build_fn_cup, n_hidden_units1 = 0, n_hidden_units2 = 0, n_hidden_units3 = 0, learning_rate = 0, lambd = 0, epochs = 150, verbose = 0)\n",
        "\n",
        "param_grid = {'n_hidden_units1': range(10, 100, 20),\n",
        "              'n_hidden_units2': range(0, 100, 20),\n",
        "              'n_hidden_units3': range(0, 100, 20),\n",
        "              'learning_rate': [.01],\n",
        "              'lambd': [0],\n",
        "              'batch_size': [512, 2048],\n",
        "              }\n",
        "\n",
        "search = GridSearchCV(estimator = model, \n",
        "                      param_grid = param_grid, \n",
        "                      cv = KFold(5, shuffle = True, random_state = 42),\n",
        "                      scoring = mee_scoring,\n",
        "                      verbose = 1).fit(X_train, y_train, verbose = 0)\n",
        "\n",
        "print('Best score:', search.best_score_, '\\nBest params', search.best_params_)"
      ]
    },
    {
      "cell_type": "code",
      "source": [
        "model = KerasRegressor(build_fn_cup, n_hidden_units1 = 30, n_hidden_units2 = 80, n_hidden_units3 = 80, learning_rate = 0, lambd = 0, epochs = 150, verbose = 0)\n",
        "\n",
        "param_grid = {'learning_rate': [.001, .01, .1, 1],\n",
        "              'lambd': [.001, .01, .1],\n",
        "              'batch_size': [512],\n",
        "              }\n",
        "\n",
        "search = GridSearchCV(estimator = model, \n",
        "                      param_grid = param_grid, \n",
        "                      cv = KFold(5, shuffle = True, random_state = 42),\n",
        "                      scoring = mee_scoring,\n",
        "                      verbose = 1).fit(X_train, y_train, verbose = 0)\n",
        "\n",
        "print('Best score:', search.best_score_, '\\nBest params', search.best_params_)"
      ],
      "metadata": {
        "colab": {
          "base_uri": "https://localhost:8080/"
        },
        "id": "_tJvUrs9xZo8",
        "outputId": "de9191b7-2ccd-4f98-cd3d-118e31948544"
      },
      "execution_count": null,
      "outputs": [
        {
          "output_type": "stream",
          "name": "stdout",
          "text": [
            "Fitting 5 folds for each of 12 candidates, totalling 60 fits\n",
            "Best score: -1.8114975452423097 \n",
            "Best params {'batch_size': 512, 'lambd': 0.01, 'learning_rate': 0.01}\n"
          ]
        }
      ]
    },
    {
      "cell_type": "code",
      "execution_count": 271,
      "metadata": {
        "colab": {
          "base_uri": "https://localhost:8080/",
          "height": 628
        },
        "id": "BENowbEj-q2c",
        "outputId": "5348ddd0-8510-4efc-f643-e822e4f7894f"
      },
      "outputs": [
        {
          "output_type": "stream",
          "name": "stdout",
          "text": [
            "Model: \"sequential\"\n",
            "_________________________________________________________________\n",
            " Layer (type)                Output Shape              Param #   \n",
            "=================================================================\n",
            " dense (Dense)               (None, 30)                300       \n",
            "                                                                 \n",
            " dense_1 (Dense)             (None, 80)                2480      \n",
            "                                                                 \n",
            " dense_2 (Dense)             (None, 80)                6480      \n",
            "                                                                 \n",
            " dense_3 (Dense)             (None, 2)                 162       \n",
            "                                                                 \n",
            "=================================================================\n",
            "Total params: 9,422\n",
            "Trainable params: 9,422\n",
            "Non-trainable params: 0\n",
            "_________________________________________________________________\n",
            "Training MEE:  2.0372698307037354\n",
            "Validation MEE 1.91669499874115\n"
          ]
        },
        {
          "output_type": "display_data",
          "data": {
            "text/plain": [
              "<Figure size 432x288 with 1 Axes>"
            ],
            "image/png": "[encoded data removed]"
          },
          "metadata": {}
        }
      ],
      "source": [
        "keras.backend.clear_session()\n",
        "tf.random.set_seed(42)\n",
        "\n",
        "es = EarlyStopping(monitor = 'val_loss',\n",
        "                   mode = 'min',\n",
        "                   patience = 10,\n",
        "                   restore_best_weights = True)\n",
        "\n",
        "model = Sequential()\n",
        "model.add(Dense(30, input_dim = X_train.shape[1], kernel_initializer = 'glorot_normal', activation = 'relu', kernel_regularizer=L2(.01)))\n",
        "model.add(Dense(80, activation = 'relu'))\n",
        "model.add(Dense(80, activation = 'relu'))\n",
        "model.add(Dense(y_train.shape[1], activation = 'linear'))\n",
        "model.compile(loss = mean_euclidean_error_keras, optimizer = Adam(learning_rate=.01))\n",
        "model.summary()\n",
        "\n",
        "history = model.fit(X_train, y_train,\n",
        "                    validation_split = .2,\n",
        "                    callbacks = [es],\n",
        "                    epochs = 200,\n",
        "                    batch_size = 512,\n",
        "                    verbose = 0)\n",
        "\n",
        "loss = model.evaluate(X_train, y_train, verbose = 0)\n",
        "print('Training MEE: ', history.history['loss'][-1])\n",
        "print('Validation MEE', history.history['val_loss'][-1])\n",
        "\n",
        "plt.plot(history.history['loss'], label='Training loss')\n",
        "plt.plot(history.history['val_loss'], label='Validation loss', linestyle=\"--\")\n",
        "plt.xlabel('Epochs')\n",
        "plt.ylabel('Loss')\n",
        "plt.legend()\n",
        "plt.savefig('CUP_Keras.png', dpi=400)\n",
        "plt.show()"
      ]
    },
    {
      "cell_type": "code",
      "execution_count": null,
      "metadata": {
        "colab": {
          "base_uri": "https://localhost:8080/"
        },
        "id": "mJVgGRLd-q2d",
        "outputId": "1b82d6f6-c2fc-4f75-ec88-0c2a8fe39499"
      },
      "outputs": [
        {
          "output_type": "stream",
          "name": "stdout",
          "text": [
            "------ relu ------\n",
            "\n",
            "Avg mee train: 1.8166\n",
            "Std dev:       0.1355\n",
            "Avg mee val:   1.8163\n",
            "Std dev:       0.1876\n",
            "------ sigmoid ------\n",
            "\n",
            "Avg mee train: 4.472\n",
            "Std dev:       2.6571\n",
            "Avg mee val:   4.4526\n",
            "Std dev:       2.6397\n",
            "------ tanh ------\n",
            "\n",
            "Avg mee train: 4.2324\n",
            "Std dev:       2.7124\n",
            "Avg mee val:   4.2092\n",
            "Std dev:       2.7016\n"
          ]
        }
      ],
      "source": [
        "iterations = 50\n",
        "mee_train = []\n",
        "mee_val = []\n",
        "mee_test = []\n",
        "\n",
        "list_act = ['relu', 'sigmoid', 'tanh']\n",
        "list_seeds = np.random.default_rng().choice(iterations, size = iterations, replace = False)  \n",
        "\n",
        "for activation in list_act:\n",
        "    print('------', activation,'------\\n')\n",
        "    for i in list_seeds:\n",
        "        keras.backend.clear_session()\n",
        "        tf.random.set_seed(i)\n",
        "\n",
        "        es = EarlyStopping(monitor = 'val_loss',\n",
        "                          mode = 'min',\n",
        "                          patience = 10,\n",
        "                          restore_best_weights = True)\n",
        "\n",
        "        model = Sequential()\n",
        "        model.add(Dense(30, input_dim = X_train.shape[1], kernel_initializer = 'glorot_normal', activation = activation, kernel_regularizer=L2(.01)))\n",
        "        model.add(Dense(80, activation = activation))\n",
        "        model.add(Dense(80, activation = activation))\n",
        "        model.add(Dense(y_train.shape[1], activation = 'linear'))\n",
        "        model.compile(loss = mean_euclidean_error_keras, optimizer = Adam(learning_rate=.01))\n",
        "\n",
        "        history = model.fit(X_train, y_train,\n",
        "                            validation_split = .2,\n",
        "                            callbacks = [es],\n",
        "                            epochs = 200,\n",
        "                            batch_size = 512,\n",
        "                            verbose = 0)\n",
        "        \n",
        "        mee_train.append(history.history['loss'][-1])\n",
        "        mee_val.append(history.history['val_loss'][-1])\n",
        "\n",
        "    print('Avg mee train:', round(np.mean(mee_train),4))\n",
        "    print('Std dev:      ', round(np.std(mee_train),4))\n",
        "    print('Avg mee val:  ', round(np.mean(mee_val),4))\n",
        "    print('Std dev:      ', round(np.std(mee_val),4),'\\n')"
      ]
    },
    {
      "cell_type": "code",
      "source": [
        "iterations = 50\n",
        "mee_train = []\n",
        "mee_val = []\n",
        "mee_test = []\n",
        "\n",
        "list_init = ['glorot_normal', 'random_normal', 'he_normal']\n",
        "list_seeds = np.random.default_rng().choice(iterations, size = iterations, replace = False)  \n",
        "\n",
        "for initializer in list_init:\n",
        "    print('------', initializer,'------\\n')\n",
        "    for i in list_seeds:\n",
        "        keras.backend.clear_session()\n",
        "        tf.random.set_seed(i)\n",
        "\n",
        "        es = EarlyStopping(monitor = 'val_loss',\n",
        "                          mode = 'min',\n",
        "                          patience = 10,\n",
        "                          restore_best_weights = True)\n",
        "\n",
        "        model = Sequential()\n",
        "        model.add(Dense(30, input_dim = X_train.shape[1], kernel_initializer = initializer, activation = 'relu', kernel_regularizer=L2(.01)))\n",
        "        model.add(Dense(80, activation = 'relu'))\n",
        "        model.add(Dense(80, activation = 'relu'))\n",
        "        model.add(Dense(y_train.shape[1], activation = 'linear'))\n",
        "        model.compile(loss = mean_euclidean_error_keras, optimizer = Adam(learning_rate=.01))\n",
        "\n",
        "        history = model.fit(X_train, y_train,\n",
        "                            validation_split = .2,\n",
        "                            callbacks = [es],\n",
        "                            epochs = 200,\n",
        "                            batch_size = 512,\n",
        "                            verbose = 0)\n",
        "        \n",
        "        mee_train.append(history.history['loss'][-1])\n",
        "        mee_val.append(history.history['val_loss'][-1])\n",
        "\n",
        "    print('Avg mee train:', round(np.mean(mee_train),4))\n",
        "    print('Std dev:      ', round(np.std(mee_train),4))\n",
        "    print('Avg mee val:  ', round(np.mean(mee_val),4))\n",
        "    print('Std dev:      ', round(np.std(mee_val),4),'\\n')"
      ],
      "metadata": {
        "colab": {
          "base_uri": "https://localhost:8080/"
        },
        "id": "GH1gNZKD7IP7",
        "outputId": "4bb548d1-c099-407c-8c03-b44e85ebfa91"
      },
      "execution_count": null,
      "outputs": [
        {
          "output_type": "stream",
          "name": "stdout",
          "text": [
            "------ glorot_normal ------\n",
            "\n",
            "Avg mee train: 1.8454\n",
            "Std dev:       0.186\n",
            "Avg mee val:   1.8779\n",
            "Std dev:       0.2275 \n",
            "\n",
            "------ random_normal ------\n",
            "\n",
            "Avg mee train: 1.9273\n",
            "Std dev:       0.1856\n",
            "Avg mee val:   1.9297\n",
            "Std dev:       0.2095 \n",
            "\n",
            "------ he_normal ------\n",
            "\n",
            "Avg mee train: 1.8938\n",
            "Std dev:       0.1807\n",
            "Avg mee val:   1.9028\n",
            "Std dev:       0.211 \n",
            "\n"
          ]
        }
      ]
    },
    {
      "cell_type": "code",
      "source": [
        "iterations = 50\n",
        "mee_train = []\n",
        "mee_val = []\n",
        "mee_test = []\n",
        "\n",
        "list_eta = [.001, .01, .1, 1]\n",
        "list_seeds = np.random.default_rng().choice(iterations, size = iterations, replace = False)  \n",
        "\n",
        "for eta in list_eta:\n",
        "    print('------', eta,'------\\n')\n",
        "    for i in list_seeds:\n",
        "        keras.backend.clear_session()\n",
        "        tf.random.set_seed(i)\n",
        "\n",
        "        es = EarlyStopping(monitor = 'val_loss',\n",
        "                          mode = 'min',\n",
        "                          patience = 10,\n",
        "                          restore_best_weights = True)\n",
        "\n",
        "        model = Sequential()\n",
        "        model.add(Dense(30, input_dim = X_train.shape[1], kernel_initializer = 'glorot_normal', activation = 'relu', kernel_regularizer=L2(.01)))\n",
        "        model.add(Dense(80, activation = 'relu'))\n",
        "        model.add(Dense(80, activation = 'relu'))\n",
        "        model.add(Dense(y_train.shape[1], activation = 'linear'))\n",
        "        model.compile(loss = mean_euclidean_error_keras, optimizer = Adam(learning_rate=eta))\n",
        "\n",
        "        history = model.fit(X_train, y_train,\n",
        "                            validation_split = .2,\n",
        "                            callbacks = [es],\n",
        "                            epochs = 200,\n",
        "                            batch_size = 512,\n",
        "                            verbose = 0)\n",
        "        \n",
        "        mee_train.append(history.history['loss'][-1])\n",
        "        mee_val.append(history.history['val_loss'][-1])\n",
        "\n",
        "    print('Avg mee train:', round(np.mean(mee_train),4))\n",
        "    print('Std dev:      ', round(np.std(mee_train),4))\n",
        "    print('Avg mee val:  ', round(np.mean(mee_val),4))\n",
        "    print('Std dev:      ', round(np.std(mee_val),4),'\\n')"
      ],
      "metadata": {
        "colab": {
          "base_uri": "https://localhost:8080/"
        },
        "id": "DIeHUPYADhG1",
        "outputId": "256b6ff7-e11a-4bd6-ab97-f973ca35368f"
      },
      "execution_count": null,
      "outputs": [
        {
          "output_type": "stream",
          "name": "stdout",
          "text": [
            "------ 0.001 ------\n",
            "\n",
            "Avg mee train: 1.8451\n",
            "Std dev:       0.113\n",
            "Avg mee val:   1.8142\n",
            "Std dev:       0.1326 \n",
            "\n",
            "------ 0.01 ------\n",
            "\n",
            "Avg mee train: 1.8452\n",
            "Std dev:       0.1539\n",
            "Avg mee val:   1.846\n",
            "Std dev:       0.1889 \n",
            "\n",
            "------ 0.1 ------\n",
            "\n",
            "Avg mee train: 2.0097\n",
            "Std dev:       0.5193\n",
            "Avg mee val:   2.0177\n",
            "Std dev:       0.5554 \n",
            "\n",
            "------ 1 ------\n",
            "\n",
            "Avg mee train: 8.815\n",
            "Std dev:       14.44\n",
            "Avg mee val:   8.7384\n",
            "Std dev:       14.255 \n",
            "\n"
          ]
        }
      ]
    },
    {
      "cell_type": "code",
      "source": [
        "iterations = 50\n",
        "\n",
        "train_loss = []\n",
        "train_r2 = []\n",
        "train_mse = []\n",
        "train_mae = []\n",
        "\n",
        "test_loss = []\n",
        "test_r2 = []\n",
        "test_mse = []\n",
        "test_mae = []\n",
        "\n",
        "list_seeds = np.random.default_rng().choice(iterations, size = iterations, replace = False)  \n",
        "\n",
        "for i in list_seeds:\n",
        "  keras.backend.clear_session()\n",
        "  tf.random.set_seed(i)\n",
        "\n",
        "  es = EarlyStopping(monitor = 'val_loss',\n",
        "                    mode = 'min',\n",
        "                    patience = 10,\n",
        "                    restore_best_weights = True)\n",
        "\n",
        "  model = Sequential()\n",
        "  model.add(Dense(30, input_dim = X_train.shape[1], kernel_initializer = 'glorot_normal', activation = 'relu', kernel_regularizer=L2(.01)))\n",
        "  model.add(Dense(80, activation = 'relu'))\n",
        "  model.add(Dense(80, activation = 'relu'))\n",
        "  model.add(Dense(y_train.shape[1], activation = 'linear'))\n",
        "  model.compile(loss = mean_euclidean_error_keras, optimizer = Adam(learning_rate=.001))\n",
        "\n",
        "  history = model.fit(X_train, y_train,\n",
        "                         validation_split = .2,\n",
        "                         callbacks = [es],\n",
        "                         epochs = 200,\n",
        "                         batch_size = 512,\n",
        "                         verbose = 0)\n",
        "     \n",
        "  # train_loss.append(history.history['loss'][-1])\n",
        "  y_pred = model.predict(X_train, verbose = 0)\n",
        "  y_pred_test = model.predict(X_test, verbose = 0)\n",
        "\n",
        "  tr_r2, tr_mse, tr_mae = regression_results(y_train, y_pred)\n",
        "  ts_r2, ts_mse, ts_mae = regression_results(y_test, y_pred_test)\n",
        "\n",
        "  train_loss.append(mean_euclidean_error(y_train, y_pred))\n",
        "  train_r2.append(tr_r2)\n",
        "  train_mse.append(tr_mse)\n",
        "  train_mae.append(tr_mae)\n",
        "\n",
        "  test_loss.append(mean_euclidean_error(y_test, y_pred_test))\n",
        "  test_r2.append(ts_r2)\n",
        "  test_mse.append(ts_mse)\n",
        "  test_mae.append(ts_mae)\n",
        "\n",
        "print('Train loss:  ', round(np.mean(train_loss),4))\n",
        "print('Std dev:     ', round(np.std(train_loss),4))\n",
        "print('Train r2:    ', round(np.mean(train_r2),4))\n",
        "print('Std dev:     ', round(np.std(train_r2),4))\n",
        "print('Train mse:   ', round(np.mean(train_mse),4))\n",
        "print('Std dev:     ', round(np.std(train_mse),4))\n",
        "print('Train mae:   ', round(np.mean(train_mae),4))\n",
        "print('Std dev:     ', round(np.std(train_mae),4))\n",
        "\n",
        "print('Testing loss:', round(np.mean(test_loss),4))\n",
        "print('Std dev:     ', round(np.std(test_loss),4))\n",
        "print('Testing r2:  ', round(np.mean(test_r2),4))\n",
        "print('Std dev:     ', round(np.std(test_r2),4))\n",
        "print('Testing mse: ', round(np.mean(test_mse),4))\n",
        "print('Std dev:     ', round(np.std(test_mse),4))\n",
        "print('Testing mae: ', round(np.mean(test_mae),4))\n",
        "print('Std dev:     ', round(np.std(test_mae),4))"
      ],
      "metadata": {
        "colab": {
          "base_uri": "https://localhost:8080/"
        },
        "id": "cZJICv6iHVh2",
        "outputId": "23fdfc39-90ff-4caa-9858-e589418822a8"
      },
      "execution_count": null,
      "outputs": [
        {
          "output_type": "stream",
          "name": "stdout",
          "text": [
            "Train loss:   1.9754\n",
            "Std dev:      0.0593\n",
            "Train r2:     0.8803\n",
            "Std dev:      0.0069\n",
            "Train mse:    2.6746\n",
            "Std dev:      0.1485\n",
            "Train mae:    1.2355\n",
            "Std dev:      0.0387\n",
            "Testing loss: 2.3047\n",
            "Std dev:      0.066\n",
            "Testing r2:   0.8362\n",
            "Std dev:      0.0084\n",
            "Testing mse:  3.5694\n",
            "Std dev:      0.1895\n",
            "Testing mae:  1.4382\n",
            "Std dev:      0.0439\n"
          ]
        }
      ]
    },
    {
      "cell_type": "code",
      "source": [
        "list_seeds"
      ],
      "metadata": {
        "colab": {
          "base_uri": "https://localhost:8080/"
        },
        "id": "a4DUYNtCWb9D",
        "outputId": "cb29d212-8ce2-4e88-d60c-0d350de669f7"
      },
      "execution_count": null,
      "outputs": [
        {
          "output_type": "execute_result",
          "data": {
            "text/plain": [
              "array([42, 36, 24, 25, 17, 41, 38, 19, 26, 40, 48, 16, 29, 18,  4, 31, 10,\n",
              "       44, 47, 23, 35, 45, 12,  1, 43, 30,  0,  3,  8,  6, 28, 13,  5, 14,\n",
              "       20, 33, 34, 15, 37, 21, 27, 46,  7, 22,  2,  9, 49, 39, 11, 32])"
            ]
          },
          "metadata": {},
          "execution_count": 224
        }
      ]
    },
    {
      "cell_type": "code",
      "source": [
        "keras.backend.clear_session()\n",
        "tf.random.set_seed(45)\n",
        "\n",
        "es = EarlyStopping(monitor = 'val_loss',\n",
        "                  mode = 'min',\n",
        "                  patience = 5,\n",
        "                  restore_best_weights = True)\n",
        "\n",
        "model = Sequential()\n",
        "model.add(Dense(30, input_dim = X_train.shape[1], kernel_initializer = 'glorot_normal', activation = 'relu', kernel_regularizer=L2(.01)))\n",
        "model.add(Dense(80, activation = 'relu'))\n",
        "model.add(Dense(80, activation = 'relu'))\n",
        "model.add(Dense(y_train.shape[1], activation = 'linear'))\n",
        "model.compile(loss = mean_euclidean_error_keras, optimizer = Adam(learning_rate=.001))\n",
        "\n",
        "history = model.fit(X_train, y_train,\n",
        "                    validation_split = .2,\n",
        "                    callbacks = [es],\n",
        "                    epochs = 150,\n",
        "                    batch_size = 512,\n",
        "                    verbose = 0)\n",
        "\n",
        "y_pred = model.predict(X_test, verbose = 0)\n",
        "print('TR:', round(history.history['loss'][-1],4))\n",
        "print('VL:', round(history.history['val_loss'][-1],4))\n",
        "print('TS:', round(mean_euclidean_error(y_test, y_pred),4))\n",
        "\n",
        "plt.plot(history.history['loss'], label='Training loss')\n",
        "plt.plot(history.history['val_loss'], label='Validation loss', linestyle=\"--\")\n",
        "plt.xlabel('Epochs')\n",
        "plt.ylabel('Loss')\n",
        "plt.legend()\n",
        "plt.savefig('CUP_Keras.png', dpi=400)\n",
        "plt.show()"
      ],
      "metadata": {
        "colab": {
          "base_uri": "https://localhost:8080/",
          "height": 337
        },
        "id": "-lZem9sPWdON",
        "outputId": "a8ae6f8e-60fd-4c2a-a0b5-187eeeecd123"
      },
      "execution_count": 274,
      "outputs": [
        {
          "output_type": "stream",
          "name": "stdout",
          "text": [
            "TR: 2.0392\n",
            "VL: 1.9529\n",
            "TS: 2.265\n"
          ]
        },
        {
          "output_type": "display_data",
          "data": {
            "text/plain": [
              "<Figure size 432x288 with 1 Axes>"
            ],
            "image/png": "[encoded data removed]"
          },
          "metadata": {}
        }
      ]
    },
    {
      "cell_type": "markdown",
      "metadata": {
        "id": "kdAYuyJG-q2R"
      },
      "source": [
        "### **<font color=\"#CEFF5E\">SCIKITLEARN'S MLP</font>**"
      ]
    },
    {
      "cell_type": "code",
      "execution_count": null,
      "metadata": {
        "id": "kSrM7deY-q2S"
      },
      "outputs": [],
      "source": [
        "# different learning rate schedules and momentum parameters\n",
        "params = [\n",
        "    {\n",
        "        \"solver\": \"sgd\",\n",
        "        \"learning_rate\": \"constant\",\n",
        "        \"momentum\": 0,\n",
        "        \"nesterovs_momentum\": False,\n",
        "        \"learning_rate_init\": 0.2,\n",
        "    },\n",
        "    {\n",
        "        \"solver\": \"sgd\",\n",
        "        \"learning_rate\": \"constant\",\n",
        "        \"nesterovs_momentum\": False,\n",
        "        \"learning_rate_init\": 0.2,\n",
        "    },\n",
        "    {\n",
        "        \"solver\": \"sgd\",\n",
        "        \"learning_rate\": \"constant\",\n",
        "        \"nesterovs_momentum\": True,\n",
        "        \"learning_rate_init\": 0.2,\n",
        "    },\n",
        "    {\n",
        "        \"solver\": \"sgd\",\n",
        "        \"learning_rate\": \"adaptive\",\n",
        "        \"momentum\": 0,\n",
        "        \"nesterovs_momentum\": False,\n",
        "        \"learning_rate_init\": 0.2,\n",
        "    },\n",
        "    {\n",
        "        \"solver\": \"sgd\",\n",
        "        \"learning_rate\": \"adaptive\",\n",
        "        \"nesterovs_momentum\": False,\n",
        "        \"learning_rate_init\": 0.2,\n",
        "    },\n",
        "    {\n",
        "        \"solver\": \"sgd\",\n",
        "        \"learning_rate\": \"adaptive\",\n",
        "        \"nesterovs_momentum\": True,\n",
        "        \"learning_rate_init\": 0.2,\n",
        "    },\n",
        "    {\n",
        "        \"solver\": \"adam\", \n",
        "        \"learning_rate_init\": 0.02\n",
        "    },\n",
        "]\n",
        "\n",
        "labels = [\n",
        "    \"constant learning w/o momentum\",\n",
        "    \"constant with momentum\",\n",
        "    \"constant with Nesterov's momentum\",\n",
        "    \"adaptive learning w/o momentum\",\n",
        "    \"adaptive with momentum\",\n",
        "    \"adaptive with Nesterov's momentum\",\n",
        "    \"adam\",\n",
        "]"
      ]
    },
    {
      "cell_type": "code",
      "execution_count": null,
      "metadata": {
        "colab": {
          "base_uri": "https://localhost:8080/"
        },
        "id": "HvVltW8v-q2T",
        "outputId": "2250d08f-10af-4bd3-f607-c6fa9a09ab89"
      },
      "outputs": [
        {
          "output_type": "stream",
          "name": "stdout",
          "text": [
            "training constant learning w/o momentum\n",
            "Loss: 15.036825 \n",
            "\n",
            "training constant with momentum\n",
            "Loss: 15.293155 \n",
            "\n",
            "training constant with Nesterov's momentum\n",
            "Loss: 28.475362 \n",
            "\n",
            "training adaptive learning w/o momentum\n",
            "Loss: 15.031584 \n",
            "\n",
            "training adaptive with momentum\n",
            "Loss: 15.248222 \n",
            "\n",
            "training adaptive with Nesterov's momentum\n",
            "Loss: 28.453780 \n",
            "\n",
            "training adam\n",
            "Loss: 1.345589 \n",
            "\n"
          ]
        }
      ],
      "source": [
        "models = []\n",
        "for label, param in zip(labels, params):\n",
        "    print(\"training\", label)\n",
        "    mlp = MLPRegressor(random_state=42, max_iter=100, **param)\n",
        "\n",
        "    # some parameter combinations will not converge so they are ignored here\n",
        "    with warnings.catch_warnings():\n",
        "      warnings.filterwarnings(\"ignore\", category=ConvergenceWarning, module=\"sklearn\")\n",
        "      mlp.fit(X_train, y_train)\n",
        "\n",
        "    models.append(mlp)\n",
        "    # print(\"Score: %f\" % mlp.score(X3_val, y3_val))\n",
        "    print(\"Loss: %f\" % mlp.loss_,'\\n')"
      ]
    },
    {
      "cell_type": "code",
      "source": [
        "plt.figure(figsize=(12,4))\n",
        "for i, label in zip(range(len(models)), labels):\n",
        "  plt.plot(models[i].loss_curve_, label = label)\n",
        "plt.title(\"Comparing different learning methods for MLP\")\n",
        "plt.ylim(0,50)\n",
        "plt.legend(bbox_to_anchor=(1, 1), loc=2, borderaxespad=0.5)\n",
        "plt.show()"
      ],
      "metadata": {
        "colab": {
          "base_uri": "https://localhost:8080/",
          "height": 283
        },
        "id": "4CPOXNuXjUmo",
        "outputId": "e61c9b9c-7179-48ec-c00c-ff9959d5f2bc"
      },
      "execution_count": null,
      "outputs": [
        {
          "output_type": "display_data",
          "data": {
            "text/plain": [
              "<Figure size 864x288 with 1 Axes>"
            ],
            "image/png": "[encoded data removed]"
          },
          "metadata": {}
        }
      ]
    },
    {
      "cell_type": "code",
      "execution_count": null,
      "metadata": {
        "colab": {
          "base_uri": "https://localhost:8080/"
        },
        "id": "fX13dVT7-q2T",
        "outputId": "9bf8f42b-36cb-4bb7-edef-a9cbc0374e3e"
      },
      "outputs": [
        {
          "output_type": "stream",
          "name": "stdout",
          "text": [
            "Fitting 5 folds for each of 90 candidates, totalling 450 fits\n",
            "Best score: -1.741400170326233 \n",
            "Best params MLPRegressor(hidden_layer_sizes=(100, 100, 100), learning_rate_init=0.01,\n",
            "             max_iter=150, momentum=0.01, random_state=42)\n"
          ]
        }
      ],
      "source": [
        "max_iter = 150\n",
        "model = MLPRegressor(solver='adam', max_iter=max_iter, random_state=42)\n",
        "\n",
        "param_grid = {'hidden_layer_sizes': [(10, 10, 10), (30, 30, 30), (50, 50, 50),(70, 70, 70), (100, 100, 100)],\n",
        "              'momentum': [.01, .1, 1], \n",
        "              'learning_rate_init': [.01, .1, 1],\n",
        "              'batch_size': [512, 'auto']}\n",
        "\n",
        "with warnings.catch_warnings():\n",
        "  warnings.filterwarnings(\"ignore\", category=ConvergenceWarning, module=\"sklearn\")\n",
        "  search = GridSearchCV(estimator = model, \n",
        "                        param_grid = param_grid, \n",
        "                        cv = KFold(5, shuffle = True, random_state = 42), \n",
        "                        scoring = mee_scoring,\n",
        "                        verbose = 1).fit(X_train, y_train)\n",
        "        \n",
        "print('Best score:', search.best_score_, '\\nBest params', search.best_estimator_) "
      ]
    },
    {
      "cell_type": "code",
      "source": [
        "max_iter = 150\n",
        "model = MLPRegressor(solver='adam', max_iter=max_iter, random_state=42)\n",
        "\n",
        "param_grid = {'hidden_layer_sizes': [(100, 100, 100), (125, 125, 125), (150, 150, 150)],\n",
        "              'momentum': [.08, .01, .03], \n",
        "              'learning_rate_init': [.08, .01, .03],\n",
        "              'batch_size': ['auto']}\n",
        "\n",
        "with warnings.catch_warnings():\n",
        "  warnings.filterwarnings(\"ignore\", category=ConvergenceWarning, module=\"sklearn\")\n",
        "  search = GridSearchCV(estimator = model, \n",
        "                        param_grid = param_grid, \n",
        "                        cv = KFold(5, shuffle = True, random_state = 42), \n",
        "                        scoring = mee_scoring,\n",
        "                        verbose = 1).fit(X_train, y_train)\n",
        "        \n",
        "print('Best score:', search.best_score_, '\\nBest params', search.best_estimator_) "
      ],
      "metadata": {
        "colab": {
          "base_uri": "https://localhost:8080/"
        },
        "id": "c96tcJyZbiuG",
        "outputId": "c4f01318-2b97-4972-f6a3-0b27dcd178ea"
      },
      "execution_count": null,
      "outputs": [
        {
          "output_type": "stream",
          "name": "stdout",
          "text": [
            "Fitting 5 folds for each of 27 candidates, totalling 135 fits\n",
            "Best score: -1.7102821111679076 \n",
            "Best params MLPRegressor(hidden_layer_sizes=(125, 125, 125), learning_rate_init=0.01,\n",
            "             max_iter=150, momentum=0.08, random_state=42)\n"
          ]
        }
      ]
    },
    {
      "cell_type": "code",
      "source": [
        "iterations = 50\n",
        "\n",
        "train_loss = []\n",
        "train_r2 = []\n",
        "train_mse = []\n",
        "train_mae = []\n",
        "\n",
        "test_loss = []\n",
        "test_r2 = []\n",
        "test_mse = []\n",
        "test_mae = []\n",
        "\n",
        "list_seeds = np.random.default_rng().choice(iterations, size = iterations, replace = False)      \n",
        "\n",
        "for i in list_seeds:\n",
        "    with warnings.catch_warnings():\n",
        "        warnings.filterwarnings(\"ignore\", category=ConvergenceWarning, module=\"sklearn\")\n",
        "        mlp = MLPRegressor(batch_size = 'auto', \n",
        "                           hidden_layer_sizes = (125, 125, 125),\n",
        "                           learning_rate_init = .01, \n",
        "                           max_iter = 150, \n",
        "                           momentum = .08,\n",
        "                           random_state = i)\n",
        "\n",
        "        mlp.fit(X_train, y_train)\n",
        "        y_pred = mlp.predict(X_train)\n",
        "        y_pred_test = mlp.predict(X_test)\n",
        "\n",
        "        tr_r2, tr_mse, tr_mae = regression_results(y_train, y_pred)\n",
        "        ts_r2, ts_mse, ts_mae = regression_results(y_test, y_pred_test)\n",
        "\n",
        "        train_loss.append(mean_euclidean_error(y_train, y_pred))\n",
        "        train_r2.append(tr_r2)\n",
        "        train_mse.append(tr_mse)\n",
        "        train_mae.append(tr_mae)\n",
        "\n",
        "        test_loss.append(mean_euclidean_error(y_test, y_pred_test))\n",
        "        test_r2.append(ts_r2)\n",
        "        test_mse.append(ts_mse)\n",
        "        test_mae.append(ts_mae)\n",
        "\n",
        "\n",
        "print('Train loss:', round(np.mean(train_loss),4))\n",
        "print('Std dev:   ', round(np.std(train_loss),4))\n",
        "print('Train r2:  ', round(np.mean(train_r2),4))\n",
        "print('Std dev:   ', round(np.std(train_r2),4))\n",
        "print('Train mse: ', round(np.mean(train_mse),4))\n",
        "print('Std dev:   ', round(np.std(train_mse),4))\n",
        "print('Train mae: ', round(np.mean(train_mae),4))\n",
        "print('Std dev:   ', round(np.std(train_mae),4))\n",
        "\n",
        "print('Testing loss:', round(np.mean(test_loss),4))\n",
        "print('Std dev:     ', round(np.std(test_loss),4))\n",
        "print('Testing r2:  ', round(np.mean(test_r2),4))\n",
        "print('Std dev:     ', round(np.std(test_r2),4))\n",
        "print('Testing mse: ', round(np.mean(test_mse),4))\n",
        "print('Std dev:     ', round(np.std(test_mse),4))\n",
        "print('Testing mae: ', round(np.mean(test_mae),4))\n",
        "print('Std dev:     ', round(np.std(test_mae),4))"
      ],
      "metadata": {
        "colab": {
          "base_uri": "https://localhost:8080/"
        },
        "id": "AkgRLF5B7c6l",
        "outputId": "b52aa8c4-db46-49a2-e51c-55d3e05a7807"
      },
      "execution_count": null,
      "outputs": [
        {
          "output_type": "stream",
          "name": "stdout",
          "text": [
            "Train loss: 1.6463\n",
            "Std dev:    0.1318\n",
            "Train r2:   0.9092\n",
            "Std dev:    0.0102\n",
            "Train mse:  1.9866\n",
            "Std dev:    0.2319\n",
            "Train mae:  1.0239\n",
            "Std dev:    0.0864\n",
            "Testing loss: 1.8438\n",
            "Std dev:      0.1262\n",
            "Testing r2:   0.8795\n",
            "Std dev:      0.0125\n",
            "Testing mse:  2.5016\n",
            "Std dev:      0.2684\n",
            "Testing mae:  1.14\n",
            "Std dev:      0.0842\n"
          ]
        }
      ]
    },
    {
      "cell_type": "code",
      "source": [
        "list_seeds"
      ],
      "metadata": {
        "colab": {
          "base_uri": "https://localhost:8080/"
        },
        "id": "XoErGJ5DhKQ1",
        "outputId": "f5f06edc-e66b-4893-c5c4-063d45871ae6"
      },
      "execution_count": null,
      "outputs": [
        {
          "output_type": "execute_result",
          "data": {
            "text/plain": [
              "array([12, 27, 10,  5,  0, 34,  2, 44, 45, 25, 18, 11, 32,  4, 30, 17,  3,\n",
              "       39, 19,  9, 47, 33, 38, 22, 41, 24, 36, 28, 16, 29,  1, 40, 21, 13,\n",
              "       26,  8, 14,  7, 43, 37, 23, 20, 49, 35, 46, 31, 15, 42,  6, 48])"
            ]
          },
          "metadata": {},
          "execution_count": 253
        }
      ]
    },
    {
      "cell_type": "code",
      "execution_count": 275,
      "metadata": {
        "id": "yJLkz5WC-q2X",
        "colab": {
          "base_uri": "https://localhost:8080/",
          "height": 337
        },
        "outputId": "6e0b592d-3ad2-430d-8703-83a6901207dd"
      },
      "outputs": [
        {
          "output_type": "stream",
          "name": "stdout",
          "text": [
            "Training loss:    1.6668\n",
            "Testing loss:     1.9539 \n",
            "\n"
          ]
        },
        {
          "output_type": "display_data",
          "data": {
            "text/plain": [
              "<Figure size 432x288 with 1 Axes>"
            ],
            "image/png": "[encoded data removed]"
          },
          "metadata": {}
        }
      ],
      "source": [
        "mlp = MLPRegressor(batch_size = 'auto', \n",
        "                   hidden_layer_sizes = (125, 125, 125),\n",
        "                   learning_rate_init = .01, \n",
        "                   max_iter = 100, \n",
        "                   momentum = .08,\n",
        "                   random_state = 32)\n",
        "\n",
        "train_loss, test_loss = mlp_fit(mlp, max_iter = 100)\n",
        "\n",
        "plot_score_loss(train_loss = train_loss,\n",
        "                test_loss = test_loss,\n",
        "                save = 1,\n",
        "                name = 'CUP_sklearn')"
      ]
    },
    {
      "cell_type": "markdown",
      "source": [
        "# **<font color=\"#34ebdb\">3.0 NESTED CROSS VALIDATION</font>**"
      ],
      "metadata": {
        "id": "bbMumXjWt_y6"
      }
    },
    {
      "cell_type": "code",
      "execution_count": null,
      "metadata": {
        "id": "RWw_NAOS9HAd"
      },
      "outputs": [],
      "source": [
        "# Models, parameters and hyperparameters to test with nested cross validation for MONK 1\n",
        "knn_params = ['n_neighbors', 'weights', 'metric']\n",
        "knn_param_grid = [range(2,78,2), [\"uniform\", \"distance\"], [\"euclidean\", \"cityblock\", \"chebyshev\"]]\n",
        "\n",
        "lr_params = ['fit_intercept', 'positive', 'n_jobs']\n",
        "lr_param_grid = [[True, False], [False, True], [-1]]\n",
        "\n",
        "rf_params = ['criterion', 'max_depth', 'n_estimators']\n",
        "rf_param_grid = [['squared_error', 'absolute_error'], [1, 3, 5, 7, 10, None], [50, 100, 150]]\n",
        "\n",
        "ridge_params = ['alpha', 'max_iter', 'solver']\n",
        "ridge_param_grid = [[.1, 1., 10, 100], [None, 500, 1000], ['auto', 'svd', 'lsqr', 'saga']]\n",
        "\n",
        "las_params = ['alpha', 'max_iter', 'tol']\n",
        "las_param_grid = [[.001, .01, .1, 1.], [500, 1000, 1500], [5e-5, 1e-4, 5e-4]]\n",
        "\n",
        "nested_dict = {\n",
        "    'K-Nearest Neighbors': [KNeighborsRegressor, knn_params, knn_param_grid],\n",
        "    'Linear Regression': [LinearRegression, lr_params, lr_param_grid],\n",
        "    'Ridge': [Ridge, ridge_params, ridge_param_grid],\n",
        "    'Lasso': [Lasso, las_params, las_param_grid]\n",
        "    }"
      ]
    },
    {
      "cell_type": "code",
      "execution_count": null,
      "metadata": {
        "colab": {
          "base_uri": "https://localhost:8080/"
        },
        "id": "HOi8yicn9HAe",
        "outputId": "d08ec818-54c6-42e6-909f-54ea0d8133b2"
      },
      "outputs": [
        {
          "output_type": "stream",
          "name": "stdout",
          "text": [
            "------ K-Nearest Neighbors ------\n",
            "Average MEE: 1.705\n",
            "Std dev:     0.0908 \n",
            "\n",
            "------ Linear Regression ------\n",
            "Average MEE: 26.6078\n",
            "Std dev:     0.3338 \n",
            "\n",
            "------ Ridge ------\n",
            "Average MEE: 3.1741\n",
            "Std dev:     0.0282 \n",
            "\n",
            "------ Lasso ------\n",
            "Average MEE: 6.1369\n",
            "Std dev:     0.1553 \n",
            "\n"
          ]
        }
      ],
      "source": [
        "# Ignoring convergence warning for logistic regression when max_iter is not enough to converge\n",
        "with warnings.catch_warnings():\n",
        "    warnings.filterwarnings(\"ignore\", category=ConvergenceWarning, module=\"sklearn\")\n",
        "    for name, [model_to_use, model_params, param_grid] in nested_dict.items():\n",
        "        avg_mee, std_mee = nested_cross_validation(folds = 5,\n",
        "                                                   model_to_use = model_to_use,\n",
        "                                                   model_params = model_params,\n",
        "                                                   param_grid = param_grid)\n",
        "        print('------', name, '------')\n",
        "        print('Average MEE:', avg_mee)\n",
        "        print('Std dev:    ', std_mee, '\\n')"
      ]
    },
    {
      "cell_type": "code",
      "source": [
        "# Models, parameters and hyperparameters to test with nested cross validation for MONK 1\n",
        "rf_params = ['criterion', 'max_depth', 'n_estimators']\n",
        "rf_param_grid = [['squared_error', 'absolute_error'], [1, 3, 5], [50, 100, 150]]\n",
        "\n",
        "nested_dict = {'Random Forests': [RandomForestRegressor, rf_params, rf_param_grid]}\n",
        "\n",
        "# Ignoring convergence warning for logistic regression when max_iter is not enough to converge\n",
        "with warnings.catch_warnings():\n",
        "    warnings.filterwarnings(\"ignore\", category=ConvergenceWarning, module=\"sklearn\")\n",
        "    for name, [model_to_use, model_params, param_grid] in nested_dict.items():\n",
        "        avg_mee, std_mee = nested_cross_validation(folds = 5,\n",
        "                                                   model_to_use = model_to_use,\n",
        "                                                   model_params = model_params,\n",
        "                                                   param_grid = param_grid)\n",
        "        print('------', name, '------')\n",
        "        print('Average MEE:', avg_mee)\n",
        "        print('Std dev:    ', std_mee, '\\n')"
      ],
      "metadata": {
        "colab": {
          "base_uri": "https://localhost:8080/"
        },
        "id": "t8xo2kVOUpKP",
        "outputId": "0b49dd21-1bde-4223-b223-4e9d438bdad8"
      },
      "execution_count": null,
      "outputs": [
        {
          "output_type": "stream",
          "name": "stdout",
          "text": [
            "------ Random Forests ------\n",
            "Average MEE: 4.1278\n",
            "Std dev:     0.206 \n",
            "\n"
          ]
        }
      ]
    },
    {
      "cell_type": "markdown",
      "metadata": {
        "id": "fpJq6Zok-q2q"
      },
      "source": [
        "## **<font color=\"#CEFF5E\">K NEIGHBORS</font>**"
      ]
    },
    {
      "cell_type": "code",
      "execution_count": null,
      "metadata": {
        "colab": {
          "base_uri": "https://localhost:8080/"
        },
        "id": "dpAvgVR0-q2r",
        "outputId": "a383beb5-1187-42be-f66d-c73fc8dde2c1"
      },
      "outputs": [
        {
          "output_type": "stream",
          "name": "stdout",
          "text": [
            "Fitting 5 folds for each of 228 candidates, totalling 1140 fits\n",
            "Best score: -1.4302521524476173 \n",
            "Best params KNeighborsRegressor(metric='euclidean', n_neighbors=22, weights='distance')\n"
          ]
        }
      ],
      "source": [
        "model = KNeighborsRegressor()\n",
        "\n",
        "parameters = {'n_neighbors': range(2,78,2),\n",
        "              'weights': [\"uniform\", \"distance\"],\n",
        "              'metric' : [\"euclidean\", \"cityblock\", \"chebyshev\"]\n",
        "             }\n",
        "\n",
        "search = GridSearchCV(estimator = model, \n",
        "                      param_grid = parameters, \n",
        "                      cv = KFold(5, shuffle=True, random_state=42), \n",
        "                      n_jobs = -1,\n",
        "                      scoring=mee_scoring,\n",
        "                      verbose = 1).fit(X_train, y_train)\n",
        "\n",
        "print('Best score:', search.best_score_, '\\nBest params', search.best_estimator_) "
      ]
    },
    {
      "cell_type": "code",
      "source": [
        "model = KNeighborsRegressor()\n",
        "\n",
        "parameters = {'n_neighbors': [18, 19, 20, 21, 22, 23, 24],\n",
        "              'weights': [\"uniform\", \"distance\"],\n",
        "              'metric' : [\"euclidean\", \"cityblock\", \"chebyshev\"]\n",
        "             }\n",
        "\n",
        "search = GridSearchCV(estimator = model, \n",
        "                      param_grid = parameters, \n",
        "                      cv = KFold(5, shuffle=True, random_state=42), \n",
        "                      n_jobs = -1,\n",
        "                      scoring=mee_scoring,\n",
        "                      verbose = 1).fit(X_train, y_train)\n",
        "\n",
        "print('Best score:', search.best_score_, '\\nBest params', search.best_estimator_) "
      ],
      "metadata": {
        "id": "onA1XjcirO-R",
        "outputId": "2efe8e61-93e3-4397-a77b-9f4b68df2e03",
        "colab": {
          "base_uri": "https://localhost:8080/"
        }
      },
      "execution_count": null,
      "outputs": [
        {
          "output_type": "stream",
          "name": "stdout",
          "text": [
            "Fitting 5 folds for each of 42 candidates, totalling 210 fits\n",
            "Best score: -1.4302521524476173 \n",
            "Best params KNeighborsRegressor(metric='euclidean', n_neighbors=22, weights='distance')\n"
          ]
        }
      ]
    },
    {
      "cell_type": "code",
      "execution_count": 268,
      "metadata": {
        "colab": {
          "base_uri": "https://localhost:8080/"
        },
        "id": "RQqCKdKe-q2r",
        "outputId": "68db1f2e-59f3-45c1-aafe-25c688c845b9"
      },
      "outputs": [
        {
          "output_type": "stream",
          "name": "stdout",
          "text": [
            "Train loss:   0.0\n",
            "Train r2:     1.0\n",
            "Train mse:    0.0\n",
            "Train mae:    0.0\n",
            "Testing loss: 1.5302\n",
            "Testing r2:   0.9101\n",
            "Testing mse:  1.7826\n",
            "Testing mae:  0.9464\n"
          ]
        }
      ],
      "source": [
        "model = KNeighborsRegressor(metric='euclidean', n_neighbors=22, weights='distance')\n",
        "model.fit(X_train, y_train)\n",
        "\n",
        "train_loss = []\n",
        "train_r2 = []\n",
        "train_mse = []\n",
        "train_mae = []\n",
        "\n",
        "test_loss = []\n",
        "test_r2 = []\n",
        "test_mse = []\n",
        "test_mae = []\n",
        "\n",
        "y_pred = model.predict(X_train)\n",
        "y_pred_test = model.predict(X_test)\n",
        "\n",
        "tr_r2, tr_mse, tr_mae = regression_results(y_train, y_pred)\n",
        "ts_r2, ts_mse, ts_mae = regression_results(y_test, y_pred_test)\n",
        "\n",
        "train_loss.append(mean_euclidean_error(y_train, y_pred))\n",
        "train_r2.append(tr_r2)\n",
        "train_mse.append(tr_mse)\n",
        "train_mae.append(tr_mae)\n",
        "\n",
        "test_loss.append(mean_euclidean_error(y_test, y_pred_test))\n",
        "test_r2.append(ts_r2)\n",
        "test_mse.append(ts_mse)\n",
        "test_mae.append(ts_mae)\n",
        "\n",
        "print('Train loss:  ', round(np.mean(train_loss),4))\n",
        "print('Train r2:    ', round(np.mean(train_r2),4))\n",
        "print('Train mse:   ', round(np.mean(train_mse),4))\n",
        "print('Train mae:   ', round(np.mean(train_mae),4))\n",
        "\n",
        "print('Testing loss:', round(np.mean(test_loss),4))\n",
        "print('Testing r2:  ', round(np.mean(test_r2),4))\n",
        "print('Testing mse: ', round(np.mean(test_mse),4))\n",
        "print('Testing mae: ', round(np.mean(test_mae),4))"
      ]
    },
    {
      "cell_type": "markdown",
      "metadata": {
        "id": "VNqkzJkc-q2j"
      },
      "source": [
        "## **<font color=\"#CEFF5E\">RAMDOM FOREST</font>**"
      ]
    },
    {
      "cell_type": "code",
      "execution_count": 269,
      "metadata": {
        "colab": {
          "base_uri": "https://localhost:8080/"
        },
        "id": "AyRtChRB-q2j",
        "outputId": "efd51506-6c37-4ae0-e9e7-b0f81157828c"
      },
      "outputs": [
        {
          "output_type": "stream",
          "name": "stdout",
          "text": [
            "Fitting 5 folds for each of 18 candidates, totalling 90 fits\n",
            "Best score: -1.5424108705028952 \n",
            "Best params RandomForestRegressor(criterion='absolute_error', max_depth=5)\n"
          ]
        }
      ],
      "source": [
        "model = RandomForestRegressor()\n",
        "\n",
        "parameters = {'n_estimators': [50, 100, 150],\n",
        "              'criterion': ['squared_error', 'absolute_error'],\n",
        "              'max_depth' : [1, 3, 5]\n",
        "             }\n",
        "\n",
        "search = GridSearchCV(estimator = model, \n",
        "                      param_grid = parameters, \n",
        "                      cv = KFold(5, shuffle=True, random_state=42), \n",
        "                      n_jobs = -1,\n",
        "                      scoring= mee_scoring,\n",
        "                      verbose = 1).fit(X_train, y_train)\n",
        "\n",
        "print('Best score:', search.best_score_, '\\nBest params', search.best_estimator_) "
      ]
    },
    {
      "cell_type": "code",
      "source": [
        "model = RandomForestRegressor()\n",
        "\n",
        "parameters = {'n_estimators': [100],\n",
        "              'criterion': ['absolute_error'],\n",
        "              'max_depth' : [5, 10, 15]\n",
        "             }\n",
        "\n",
        "search = GridSearchCV(estimator = model, \n",
        "                      param_grid = parameters, \n",
        "                      cv = KFold(5, shuffle=True, random_state=42), \n",
        "                      n_jobs = -1,\n",
        "                      scoring= mee_scoring,\n",
        "                      verbose = 1).fit(X_train, y_train)\n",
        "\n",
        "print('Best score:', search.best_score_, '\\nBest params', search.best_estimator_) "
      ],
      "metadata": {
        "colab": {
          "base_uri": "https://localhost:8080/"
        },
        "id": "p3pFscMGuYA4",
        "outputId": "c3e6b234-6f2b-404f-a1c2-03e7b19f0002"
      },
      "execution_count": 270,
      "outputs": [
        {
          "output_type": "stream",
          "name": "stdout",
          "text": [
            "Fitting 5 folds for each of 3 candidates, totalling 15 fits\n",
            "Best score: -1.4881015881281188 \n",
            "Best params RandomForestRegressor(criterion='absolute_error', max_depth=10)\n"
          ]
        }
      ]
    },
    {
      "cell_type": "code",
      "execution_count": 18,
      "metadata": {
        "colab": {
          "base_uri": "https://localhost:8080/"
        },
        "id": "_FFZR-tt-q2k",
        "outputId": "be147dac-726a-4178-953d-ad477073835c"
      },
      "outputs": [
        {
          "output_type": "stream",
          "name": "stdout",
          "text": [
            "Train loss: 0.7496\n",
            "Std dev:    0.0051\n",
            "Train r2:   0.9782\n",
            "Std dev:    0.0004\n",
            "Train mse:  0.4767\n",
            "Std dev:    0.007\n",
            "Train mae:  0.4649\n",
            "Std dev:    0.0032\n",
            "-------------\n",
            "Testing loss: 1.6474\n",
            "Std dev:      0.0184\n",
            "Testing r2:   0.9021\n",
            "Std dev:      0.0019\n",
            "Testing mse:  2.0321\n",
            "Std dev:      0.038\n",
            "Testing mae:  1.0321\n",
            "Std dev:      0.012\n"
          ]
        }
      ],
      "source": [
        "iterations = 20\n",
        "\n",
        "train_loss = []\n",
        "train_r2 = []\n",
        "train_mse = []\n",
        "train_mae = []\n",
        "\n",
        "test_loss = []\n",
        "test_r2 = []\n",
        "test_mse = []\n",
        "test_mae = []\n",
        "\n",
        "list_seeds = np.random.default_rng().choice(iterations, size = iterations, replace = False)      \n",
        "\n",
        "for i in list_seeds:\n",
        "    with warnings.catch_warnings():\n",
        "        warnings.filterwarnings(\"ignore\", category=ConvergenceWarning, module=\"sklearn\")\n",
        "        model = RandomForestRegressor(criterion='absolute_error', max_depth=10, random_state=i)\n",
        "\n",
        "        model.fit(X_train, y_train)\n",
        "        y_pred = model.predict(X_train)\n",
        "        y_pred_test = model.predict(X_test)\n",
        "\n",
        "        tr_r2, tr_mse, tr_mae = regression_results(y_train, y_pred)\n",
        "        ts_r2, ts_mse, ts_mae = regression_results(y_test, y_pred_test)\n",
        "\n",
        "        train_loss.append(mean_euclidean_error(y_train, y_pred))\n",
        "        train_r2.append(tr_r2)\n",
        "        train_mse.append(tr_mse)\n",
        "        train_mae.append(tr_mae)\n",
        "\n",
        "        test_loss.append(mean_euclidean_error(y_test, y_pred_test))\n",
        "        test_r2.append(ts_r2)\n",
        "        test_mse.append(ts_mse)\n",
        "        test_mae.append(ts_mae)\n",
        "\n",
        "\n",
        "print('Train loss:', round(np.mean(train_loss),4))\n",
        "print('Std dev:   ', round(np.std(train_loss),4))\n",
        "print('Train r2:  ', round(np.mean(train_r2),4))\n",
        "print('Std dev:   ', round(np.std(train_r2),4))\n",
        "print('Train mse: ', round(np.mean(train_mse),4))\n",
        "print('Std dev:   ', round(np.std(train_mse),4))\n",
        "print('Train mae: ', round(np.mean(train_mae),4))\n",
        "print('Std dev:   ', round(np.std(train_mae),4))\n",
        "print('-------------')\n",
        "print('Testing loss:', round(np.mean(test_loss),4))\n",
        "print('Std dev:     ', round(np.std(test_loss),4))\n",
        "print('Testing r2:  ', round(np.mean(test_r2),4))\n",
        "print('Std dev:     ', round(np.std(test_r2),4))\n",
        "print('Testing mse: ', round(np.mean(test_mse),4))\n",
        "print('Std dev:     ', round(np.std(test_mse),4))\n",
        "print('Testing mae: ', round(np.mean(test_mae),4))\n",
        "print('Std dev:     ', round(np.std(test_mae),4))"
      ]
    },
    {
      "cell_type": "markdown",
      "metadata": {
        "id": "cENRUZDP-q2m"
      },
      "source": [
        "## **<font color=\"#CEFF5E\">RIDGE</font>**"
      ]
    },
    {
      "cell_type": "code",
      "execution_count": 19,
      "metadata": {
        "colab": {
          "base_uri": "https://localhost:8080/"
        },
        "id": "0Y_L3gRw-q2n",
        "outputId": "367eba39-9ea0-4cae-b52f-ee7625ea484c"
      },
      "outputs": [
        {
          "output_type": "stream",
          "name": "stdout",
          "text": [
            "Fitting 5 folds for each of 175 candidates, totalling 875 fits\n",
            "Best score: -2.149274158477783 \n",
            "Best params Ridge(alpha=1, solver='saga', tol=0.01)\n"
          ]
        }
      ],
      "source": [
        "model = Ridge()\n",
        "\n",
        "parameters = {'alpha': [.0001, .0002, .0003, .01, 1, 2, 5],\n",
        "              'tol': [.00001, .0001, .01, .1, 1],\n",
        "              'solver': ['auto', 'svd', 'saga', 'lsqr', 'cholesky'],\n",
        "             }\n",
        "\n",
        "search = GridSearchCV(estimator = model, \n",
        "                      param_grid = parameters, \n",
        "                      cv = KFold(5, shuffle=True, random_state=42), \n",
        "                      n_jobs = -1,\n",
        "                      scoring=mee_scoring,\n",
        "                      verbose = 1).fit(X_train, y_train)\n",
        "\n",
        "print('Best score:', search.best_score_, '\\nBest params', search.best_estimator_) "
      ]
    },
    {
      "cell_type": "code",
      "execution_count": 20,
      "metadata": {
        "colab": {
          "base_uri": "https://localhost:8080/"
        },
        "id": "lrabqjxf-q2o",
        "outputId": "fab60846-8706-4461-d600-e4919c5455d5"
      },
      "outputs": [
        {
          "output_type": "stream",
          "name": "stdout",
          "text": [
            "Fitting 5 folds for each of 280 candidates, totalling 1400 fits\n",
            "Best score: -2.1470870971679688 \n",
            "Best params Ridge(alpha=0.5, solver='saga', tol=0.09)\n"
          ]
        }
      ],
      "source": [
        "model = Ridge()\n",
        "\n",
        "parameters = {'alpha': [.3, .5, .7, 1, 1.5, 2, 3, 5],\n",
        "              'tol': [.00001, .0001, .09, .01, .05, .1, 1],\n",
        "              'solver': ['auto', 'svd', 'saga', 'lsqr', 'cholesky'],\n",
        "             }\n",
        "\n",
        "search = GridSearchCV(estimator = model, \n",
        "                      param_grid = parameters, \n",
        "                      cv = KFold(5, shuffle=True, random_state=42), \n",
        "                      n_jobs = -1,\n",
        "                      scoring=mee_scoring,\n",
        "                      verbose = 1).fit(X_train, y_train)\n",
        "\n",
        "print('Best score:', search.best_score_, '\\nBest params', search.best_estimator_) "
      ]
    },
    {
      "cell_type": "code",
      "source": [
        "model = Ridge(alpha=0.5, solver='saga', tol=0.09)\n",
        "model.fit(X_train, y_train)\n",
        "\n",
        "train_loss = []\n",
        "train_r2 = []\n",
        "train_mse = []\n",
        "train_mae = []\n",
        "\n",
        "test_loss = []\n",
        "test_r2 = []\n",
        "test_mse = []\n",
        "test_mae = []\n",
        "\n",
        "y_pred = model.predict(X_train)\n",
        "y_pred_test = model.predict(X_test)\n",
        "\n",
        "tr_r2, tr_mse, tr_mae = regression_results(y_train, y_pred)\n",
        "ts_r2, ts_mse, ts_mae = regression_results(y_test, y_pred_test)\n",
        "\n",
        "train_loss.append(mean_euclidean_error(y_train, y_pred))\n",
        "train_r2.append(tr_r2)\n",
        "train_mse.append(tr_mse)\n",
        "train_mae.append(tr_mae)\n",
        "\n",
        "test_loss.append(mean_euclidean_error(y_test, y_pred_test))\n",
        "test_r2.append(ts_r2)\n",
        "test_mse.append(ts_mse)\n",
        "test_mae.append(ts_mae)\n",
        "\n",
        "print('Train loss:  ', round(np.mean(train_loss),4))\n",
        "print('Train r2:    ', round(np.mean(train_r2),4))\n",
        "print('Train mse:   ', round(np.mean(train_mse),4))\n",
        "print('Train mae:   ', round(np.mean(train_mae),4))\n",
        "print('--------')\n",
        "print('Testing loss:', round(np.mean(test_loss),4))\n",
        "print('Testing r2:  ', round(np.mean(test_r2),4))\n",
        "print('Testing mse: ', round(np.mean(test_mse),4))\n",
        "print('Testing mae: ', round(np.mean(test_mae),4))"
      ],
      "metadata": {
        "colab": {
          "base_uri": "https://localhost:8080/"
        },
        "id": "zebD8Qhb2KzB",
        "outputId": "dee13f81-93f3-44df-a40d-06e8faa37a2d"
      },
      "execution_count": 22,
      "outputs": [
        {
          "output_type": "stream",
          "name": "stdout",
          "text": [
            "Train loss:   2.1327\n",
            "Train r2:     0.87\n",
            "Train mse:    2.9949\n",
            "Train mae:    1.3509\n",
            "--------\n",
            "Testing loss: 2.4419\n",
            "Testing r2:   0.8309\n",
            "Testing mse:  3.8628\n",
            "Testing mae:  1.5676\n"
          ]
        }
      ]
    },
    {
      "cell_type": "markdown",
      "source": [
        "# **<font color=\"#34ebdb\">4.0 FINAL MODEL</font>**"
      ],
      "metadata": {
        "id": "dQ1lX9q945En"
      }
    },
    {
      "cell_type": "code",
      "execution_count": 29,
      "metadata": {
        "id": "vKmWNJHL5FoF"
      },
      "outputs": [],
      "source": [
        "final_model = MLPRegressor(batch_size = 'auto', \n",
        "                     hidden_layer_sizes = (125, 125, 125),\n",
        "                     learning_rate_init = .01, \n",
        "                     max_iter = 100, \n",
        "                     momentum = .08,\n",
        "                     random_state = 32).fit(X_CUP_train, y_CUP_train)\n",
        "                     \n",
        "y_pred = final_model.predict(X_CUP_test)"
      ]
    },
    {
      "cell_type": "code",
      "source": [
        "train_loss, test_loss = mlp_fit(final_model, max_iter = 100)\n",
        "\n",
        "plot_score_loss(train_loss = train_loss,\n",
        "                test_loss = test_loss,\n",
        "                save = 0,\n",
        "                name = 'CUP_sklearn')"
      ],
      "metadata": {
        "colab": {
          "base_uri": "https://localhost:8080/",
          "height": 339
        },
        "id": "LfJ6nlGhVA7z",
        "outputId": "7a921fff-5b18-4e36-b561-dc812ad9309c"
      },
      "execution_count": 31,
      "outputs": [
        {
          "output_type": "stream",
          "name": "stdout",
          "text": [
            "Training loss:    1.4897\n",
            "Testing loss:     1.649 \n",
            "\n"
          ]
        },
        {
          "output_type": "display_data",
          "data": {
            "text/plain": [
              "<Figure size 432x288 with 1 Axes>"
            ],
            "image/png": "[encoded data removed]"
          },
          "metadata": {}
        }
      ]
    },
    {
      "cell_type": "code",
      "source": [
        "mee_final_model = cross_val_score(model, X_CUP_train, y_CUP_train, cv=5, scoring=mee_scoring)\n",
        "print('VL loss:', np.mean(mee_final_model))"
      ],
      "metadata": {
        "colab": {
          "base_uri": "https://localhost:8080/"
        },
        "id": "YjTXky7IVi53",
        "outputId": "ee0b33cb-1d0c-49e1-96c5-0d11f9263dfa"
      },
      "execution_count": 34,
      "outputs": [
        {
          "output_type": "stream",
          "name": "stdout",
          "text": [
            "VL loss: -1.5605880737304687\n"
          ]
        }
      ]
    },
    {
      "cell_type": "code",
      "execution_count": 36,
      "metadata": {
        "colab": {
          "base_uri": "https://localhost:8080/",
          "height": 423
        },
        "outputId": "1e3db488-b369-486b-900e-ac602e531801",
        "id": "CD1H1f6Z5FoH"
      },
      "outputs": [
        {
          "output_type": "execute_result",
          "data": {
            "text/plain": [
              "     Pred x_target  Pred y_target\n",
              "0        21.565826     -27.017750\n",
              "1         6.781521     -26.805023\n",
              "2        12.505049     -30.705002\n",
              "3        19.494162     -27.844454\n",
              "4         4.286757     -22.777317\n",
              "..             ...            ...\n",
              "524      16.279787     -29.558578\n",
              "525      17.152666     -28.869589\n",
              "526      10.976681     -30.865307\n",
              "527       4.485310     -19.139492\n",
              "528      16.572264     -28.995163\n",
              "\n",
              "[529 rows x 2 columns]"
            ],
            "text/html": [
              "\n",
              "  <div id=\"df-7a6fe922-1f36-4091-841e-82ec11bf2c7e\">\n",
              "    <div class=\"colab-df-container\">\n",
              "      <div>\n",
              "<style scoped>\n",
              "    .dataframe tbody tr th:only-of-type {\n",
              "        vertical-align: middle;\n",
              "    }\n",
              "\n",
              "    .dataframe tbody tr th {\n",
              "        vertical-align: top;\n",
              "    }\n",
              "\n",
              "    .dataframe thead th {\n",
              "        text-align: right;\n",
              "    }\n",
              "</style>\n",
              "<table border=\"1\" class=\"dataframe\">\n",
              "  <thead>\n",
              "    <tr style=\"text-align: right;\">\n",
              "      <th></th>\n",
              "      <th>Pred x_target</th>\n",
              "      <th>Pred y_target</th>\n",
              "    </tr>\n",
              "  </thead>\n",
              "  <tbody>\n",
              "    <tr>\n",
              "      <th>0</th>\n",
              "      <td>21.565826</td>\n",
              "      <td>-27.017750</td>\n",
              "    </tr>\n",
              "    <tr>\n",
              "      <th>1</th>\n",
              "      <td>6.781521</td>\n",
              "      <td>-26.805023</td>\n",
              "    </tr>\n",
              "    <tr>\n",
              "      <th>2</th>\n",
              "      <td>12.505049</td>\n",
              "      <td>-30.705002</td>\n",
              "    </tr>\n",
              "    <tr>\n",
              "      <th>3</th>\n",
              "      <td>19.494162</td>\n",
              "      <td>-27.844454</td>\n",
              "    </tr>\n",
              "    <tr>\n",
              "      <th>4</th>\n",
              "      <td>4.286757</td>\n",
              "      <td>-22.777317</td>\n",
              "    </tr>\n",
              "    <tr>\n",
              "      <th>...</th>\n",
              "      <td>...</td>\n",
              "      <td>...</td>\n",
              "    </tr>\n",
              "    <tr>\n",
              "      <th>524</th>\n",
              "      <td>16.279787</td>\n",
              "      <td>-29.558578</td>\n",
              "    </tr>\n",
              "    <tr>\n",
              "      <th>525</th>\n",
              "      <td>17.152666</td>\n",
              "      <td>-28.869589</td>\n",
              "    </tr>\n",
              "    <tr>\n",
              "      <th>526</th>\n",
              "      <td>10.976681</td>\n",
              "      <td>-30.865307</td>\n",
              "    </tr>\n",
              "    <tr>\n",
              "      <th>527</th>\n",
              "      <td>4.485310</td>\n",
              "      <td>-19.139492</td>\n",
              "    </tr>\n",
              "    <tr>\n",
              "      <th>528</th>\n",
              "      <td>16.572264</td>\n",
              "      <td>-28.995163</td>\n",
              "    </tr>\n",
              "  </tbody>\n",
              "</table>\n",
              "<p>529 rows × 2 columns</p>\n",
              "</div>\n",
              "      <button class=\"colab-df-convert\" onclick=\"convertToInteractive('df-7a6fe922-1f36-4091-841e-82ec11bf2c7e')\"\n",
              "              title=\"Convert this dataframe to an interactive table.\"\n",
              "              style=\"display:none;\">\n",
              "        \n",
              "  <svg xmlns=\"http://www.w3.org/2000/svg\" height=\"24px\"viewBox=\"0 0 24 24\"\n",
              "       width=\"24px\">\n",
              "    <path d=\"M0 0h24v24H0V0z\" fill=\"none\"/>\n",
              "    <path d=\"M18.56 5.44l.94 2.06.94-2.06 2.06-.94-2.06-.94-.94-2.06-.94 2.06-2.06.94zm-11 1L8.5 8.5l.94-2.06 2.06-.94-2.06-.94L8.5 2.5l-.94 2.06-2.06.94zm10 10l.94 2.06.94-2.06 2.06-.94-2.06-.94-.94-2.06-.94 2.06-2.06.94z\"/><path d=\"M17.41 7.96l-1.37-1.37c-.4-.4-.92-.59-1.43-.59-.52 0-1.04.2-1.43.59L10.3 9.45l-7.72 7.72c-.78.78-.78 2.05 0 2.83L4 21.41c.39.39.9.59 1.41.59.51 0 1.02-.2 1.41-.59l7.78-7.78 2.81-2.81c.8-.78.8-2.07 0-2.86zM5.41 20L4 18.59l7.72-7.72 1.47 1.35L5.41 20z\"/>\n",
              "  </svg>\n",
              "      </button>\n",
              "      \n",
              "  <style>\n",
              "    .colab-df-container {\n",
              "      display:flex;\n",
              "      flex-wrap:wrap;\n",
              "      gap: 12px;\n",
              "    }\n",
              "\n",
              "    .colab-df-convert {\n",
              "      background-color: #E8F0FE;\n",
              "      border: none;\n",
              "      border-radius: 50%;\n",
              "      cursor: pointer;\n",
              "      display: none;\n",
              "      fill: #1967D2;\n",
              "      height: 32px;\n",
              "      padding: 0 0 0 0;\n",
              "      width: 32px;\n",
              "    }\n",
              "\n",
              "    .colab-df-convert:hover {\n",
              "      background-color: #E2EBFA;\n",
              "      box-shadow: 0px 1px 2px rgba(60, 64, 67, 0.3), 0px 1px 3px 1px rgba(60, 64, 67, 0.15);\n",
              "      fill: #174EA6;\n",
              "    }\n",
              "\n",
              "    [theme=dark] .colab-df-convert {\n",
              "      background-color: #3B4455;\n",
              "      fill: #D2E3FC;\n",
              "    }\n",
              "\n",
              "    [theme=dark] .colab-df-convert:hover {\n",
              "      background-color: #434B5C;\n",
              "      box-shadow: 0px 1px 3px 1px rgba(0, 0, 0, 0.15);\n",
              "      filter: drop-shadow(0px 1px 2px rgba(0, 0, 0, 0.3));\n",
              "      fill: #FFFFFF;\n",
              "    }\n",
              "  </style>\n",
              "\n",
              "      <script>\n",
              "        const buttonEl =\n",
              "          document.querySelector('#df-7a6fe922-1f36-4091-841e-82ec11bf2c7e button.colab-df-convert');\n",
              "        buttonEl.style.display =\n",
              "          google.colab.kernel.accessAllowed ? 'block' : 'none';\n",
              "\n",
              "        async function convertToInteractive(key) {\n",
              "          const element = document.querySelector('#df-7a6fe922-1f36-4091-841e-82ec11bf2c7e');\n",
              "          const dataTable =\n",
              "            await google.colab.kernel.invokeFunction('convertToInteractive',\n",
              "                                                     [key], {});\n",
              "          if (!dataTable) return;\n",
              "\n",
              "          const docLinkHtml = 'Like what you see? Visit the ' +\n",
              "            '<a target=\"_blank\" href=https://colab.research.google.com/notebooks/data_table.ipynb>data table notebook</a>'\n",
              "            + ' to learn more about interactive tables.';\n",
              "          element.innerHTML = '';\n",
              "          dataTable['output_type'] = 'display_data';\n",
              "          await google.colab.output.renderOutput(dataTable, element);\n",
              "          const docLink = document.createElement('div');\n",
              "          docLink.innerHTML = docLinkHtml;\n",
              "          element.appendChild(docLink);\n",
              "        }\n",
              "      </script>\n",
              "    </div>\n",
              "  </div>\n",
              "  "
            ]
          },
          "metadata": {},
          "execution_count": 36
        }
      ],
      "source": [
        "blind_test_results = pd.DataFrame({'Pred x_target': y_pred[:,0], 'Pred y_target': y_pred[:,1]})\n",
        "blind_test_results.to_csv('Pending-Name_ML-CUP22-TS.csv')\n",
        "blind_test_results"
      ]
    },
    {
      "cell_type": "code",
      "source": [],
      "metadata": {
        "id": "UhH0m55F-lAQ"
      },
      "execution_count": 28,
      "outputs": []
    }
  ],
  "metadata": {
    "colab": {
      "collapsed_sections": [
        "Ab0kqjAitYkB",
        "FHpcCKSoAYzu",
        "tb4qH9IQ-q2Z",
        "bbMumXjWt_y6",
        "fpJq6Zok-q2q",
        "VNqkzJkc-q2j",
        "cENRUZDP-q2m"
      ],
      "provenance": []
    },
    "gpuClass": "standard",
    "kernelspec": {
      "display_name": "Python 3",
      "name": "python3"
    },
    "language_info": {
      "name": "python"
    }
  },
  "nbformat": 4,
  "nbformat_minor": 0
}